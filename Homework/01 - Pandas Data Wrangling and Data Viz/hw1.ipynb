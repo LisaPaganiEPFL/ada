{
 "cells": [
  {
   "cell_type": "markdown",
   "id": "41f19621",
   "metadata": {},
   "source": [
    "# Homework 1 (HW1)\n",
    "\n",
    "By the end of this homework, we expect you to be able to:\n",
    "\n",
    "- Load data and handle data using pandas;\n",
    "- Navigate the documentation of Python packages by yourself;\n",
    "- Filter and tidy up noisy real-world datasets;\n",
    "- Aggregate your data in different (and hopefully helpful) ways; \n",
    "- Create meaningful visualizations to analyze the data;\n",
    "\n",
    "---\n",
    "\n",
    "## Important Dates\n",
    "\n",
    "- Homework release: Fri 14 Oct 2022\n",
    "- **Homework due**: Sat 29 Oct 2022, 23:59\n",
    "- Grade release: Mon 07 Nov 2022\n",
    "\n",
    "---\n",
    "\n",
    "##  Some rules\n",
    "\n",
    "1. You are allowed to use any built-in Python library that comes with Anaconda. If you want to use an external library, \n",
    "you may do so, but must justify your choice.\n",
    "2. Make sure you use the `data` folder provided in the repository in read-only mode. (Or alternatively, be sure you \n",
    "don’t change any of the files.)\n",
    "3. Be sure to provide a textual description of your thought process, the assumptions you made, the solution you \n",
    "implemented, and explanations for your answers. A notebook that only has code cells will not suffice.\n",
    "4. For questions containing the **/Discuss:/** prefix, answer not with code, but with a textual explanation\n",
    " (**in markdown**).\n",
    "5. Back up any hypotheses and claims with data, since this is an important aspect of the course.\n",
    "6. Please write all your comments in English, and use meaningful variable names in your code. Your repo should have a \n",
    "single notebook (plus the required data files) in the *master/main* branch. If there are multiple notebooks present, \n",
    "we will **not grade** anything.\n",
    "7. We will **not run your notebook for you**! Rather, we will grade it as is, which means that only the results \n",
    "contained in your evaluated code cells will be considered, and we will not see the results in unevaluated code cells. \n",
    "Thus, be sure to hand in a **fully-run and evaluated notebook**. In order to check whether everything looks as intended,\n",
    " you can check the rendered notebook on the GitHub website once you have pushed your solution there.\n",
    "8. In continuation to the previous point, interactive plots, such as those generated using `plotly`, should be \n",
    "**strictly avoided**!\n",
    "9. Make sure to print results or dataframes that confirm you have properly addressed the task.\n",
    "\n",
    "---\n",
    "\n",
    "In this homework, we will analyze data from A/B tests of headlines conducted by Upworthy from January 2013 to April 2015 to study whether the language used in the headline determines the number of people that will read the associated news piece. The homework contains four tasks: in task 1, we will process the data; in task 2, we will extract meaningful signals from the data; in task 3, we will test whether the language of headlines impacts their success; and in task 4, we will explore the heterogeneity of this effects (e.g., does it vary through time?).\n",
    "\n",
    "\n",
    "### **What is an A/B test?** \n",
    "A/B tests are experiments that compare two scenarios (e.g., scenario A vs. scenario B). \n",
    "They test subjects' responses to each of the variants to determine which is more effective ([read more about A/B tests on Wikipedia](https://en.wikipedia.org/wiki/A/B_testing)). \n",
    "A/B tests allow us to draw conclusions about the different scenarios by randomizing exposure to them, e.g., one could flip a coin and assign a user to scenario A if it lands heads and to B if it lands tails. \n",
    "Since exposure is randomized, we can be confident that the scenarios are the sole explanation for statistically significant differences in subjects' responses (if they exist). \n",
    "In theory, A/B testing refers to an experiment that compares two scenarios; however, in practice, the term is also used when we compare multiple scenarios (e.g., A vs. B vs. C), although the more precise terminology would be to call such an experiment a \"multinomial test.\"\n",
    "\n",
    "### **How were A/B tests used by Upworthy?** \n",
    "Upworthy used A/B testing to increase news readership, conducting experiments for each published news piece. \n",
    "In each experiment, they created multiple \"packages\" of stimuli, varying headlines, images, excerpts, and ledes for the same news piece. \n",
    "Different \"packages\" were shown on their (now defunct) website to engage users with the news pieces they produced. Upworthy found \"the best\" package by conducting A/B tests, showing different packages to different users, and measuring how often users clicked on each version. \n",
    "Below, we show three \"packages\" used by Upworthy in an experiment, each with a different headline for the same news piece. \n",
    "Upworthy randomized users that visited their website saw one of the three versions of the headline below. Then, they measured the percentage of times users in each scenario clicked to read the news. \n",
    "The headline with the highest percentage of clicks per view (click through rate) was then declared the \"winner\" and became the default for all visitors.\n",
    "\n",
    "![Example A/B test](example.png)\n",
    "\n",
    " ### **Where does this data come from?** \n",
    " \n",
    " From a paper [1].\n",
    "\n",
    "[1] Matias, J.N., Munger, K., Le Quere, M.A. et al. The Upworthy Research Archive, a time series of 32,487 experiments in U.S. media. Sci Data 8, 195 (2021). https://doi.org/10.1038/s41597-021-00934-7\n",
    "\n",
    "### **Where can I find this data?**  \n",
    "\n",
    "You can find it in the `/data/` folder.\n",
    "\n",
    "### **Terminology**\n",
    "\n",
    "- **News piece:** A news article. In the dataset considered, these were all produced by Upworthy.\n",
    "- **Package:** The set of visual stimuli inviting the user to read an article. The figure above shows a package with a headline and an image. At times, there was an excerpt of the article also shown in the package and/or the lede, i.e., [\"the introductory section of a news story that is intended to entice the reader to read the full story.\"](https://www.merriam-webster.com/words-at-play/bury-the-lede-versus-lead#:~:text=In%20journalism%2C%20the%20lede%20refers,machines%20began%20disappearing%20from%20newsrooms.)\n",
    "- **Experiment:** Each experiment is an A/B test (or multinomial test, to be more precise) comparing how users reacted to different \"packages.\" Experiments measured two things: 1) how many users were shown each package; and 2) how many individuals clicked each package.\n",
    "\n",
    "### **Data description**\n",
    "\n",
    "| Column name          | Description                                                                                                                                                                                       |   |   |   |\n",
    "|----------------------|---------------------------------------------------------------------------------------------------------------------------------------------------------------------------------------------------|---|---|---|\n",
    "| created_at           | Time the package was created (timezone unknown)                                                                                                                                                   |   |   |   |\n",
    "| test_week            | Week the package was created, a variable constructed by the archive creators for stratified random sampling                                                                                       |   |   |   |\n",
    "| clickability_test_id | The test ID. Viewers were randomly assigned to packages with the same test ID                                                                                                                     |   |   |   |\n",
    "| impressions          | The number of viewers who were assigned to this package. The total number of participants for a given test is the sum of impressions for all packages that share the same clickability_test_id    |   |   |   |\n",
    "| headline             | The headline being tested                                                                                                                                                                         |   |   |   |\n",
    "| eyecatcher_id        | Image ID. Image files are not available. Packages that shared the same image have the same eyecatcher_id                                                                                          |   |   |   |\n",
    "| clicks               | The number of viewers (impressions) that clicked on the package. The clickrate for a given package is the number of clicks divided by the number of impressions                                   |   |   |   |\n",
    "| excerpt              | Article excerpt                                                                                                                                                                                   |   |   |   |\n",
    "| lede                 | The opening sentence or paragraph of the story                                                                                                                                                    |   |   |   |\n",
    "| slug                 | Internal name for the web address                                                                                                                                                                 |   |   |   |\n",
    "| share_text           | Summary for display on social media when the article is shared. This was not shown in tests, since tests were conducted on the Upworthy website                                                   |   |   |   |\n",
    "| square               | When used, part of the same social media sharing suggestion as the share text                                                                                                                     |   |   |   |\n",
    "| significance         | NOT an estimate of statistical significance; a complex, inconsistent calculation that compared the clicks on a package to the clicks on all previous packages that were fielded on the same pages |   |   |   |\n",
    "| first_place          | Along with significance, shown to editors to guide decisions about what test to choose                                                                                                            |   |   |   |\n",
    "| winner               | Whether a package was selected by editors to be used on the Upworthy site after the test                                                                                                          |   |   |   |\n",
    "| updated_at           | The last time the package was updated in the Upworthy system                                                                                                                                      |   |   |   |\n"
   ]
  },
  {
   "cell_type": "code",
   "execution_count": 1,
   "id": "7a21042b",
   "metadata": {},
   "outputs": [],
   "source": [
    "import pandas as pd\n",
    "import numpy as np\n",
    "import matplotlib.pyplot as plt\n",
    "%matplotlib inline\n",
    "import seaborn as sns\n",
    "import math\n",
    "from itertools import combinations"
   ]
  },
  {
   "cell_type": "markdown",
   "id": "7b640175",
   "metadata": {},
   "source": [
    "## Task 1: Getting familiar with the data\n",
    "\n",
    "Your first task is to conduct initial analyses to understand the data and process it in a way that will allow us to more easily answer our key question: *how does the language of a headline determine its success?*\n",
    "\n",
    "1.1 Load the data into memory using pandas and print the first lines to get a sense of it."
   ]
  },
  {
   "cell_type": "code",
   "execution_count": 2,
   "id": "2b78620b",
   "metadata": {},
   "outputs": [],
   "source": [
    "# Load data\n",
    "data_folder = './Data/upworthy.csv.gz'\n",
    "df= pd.read_csv(data_folder)"
   ]
  },
  {
   "cell_type": "code",
   "execution_count": 3,
   "id": "c5ce563d",
   "metadata": {
    "scrolled": false
   },
   "outputs": [
    {
     "data": {
      "text/html": [
       "<div>\n",
       "<style scoped>\n",
       "    .dataframe tbody tr th:only-of-type {\n",
       "        vertical-align: middle;\n",
       "    }\n",
       "\n",
       "    .dataframe tbody tr th {\n",
       "        vertical-align: top;\n",
       "    }\n",
       "\n",
       "    .dataframe thead th {\n",
       "        text-align: right;\n",
       "    }\n",
       "</style>\n",
       "<table border=\"1\" class=\"dataframe\">\n",
       "  <thead>\n",
       "    <tr style=\"text-align: right;\">\n",
       "      <th></th>\n",
       "      <th>created_at</th>\n",
       "      <th>updated_at</th>\n",
       "      <th>clickability_test_id</th>\n",
       "      <th>excerpt</th>\n",
       "      <th>headline</th>\n",
       "      <th>lede</th>\n",
       "      <th>slug</th>\n",
       "      <th>eyecatcher_id</th>\n",
       "      <th>impressions</th>\n",
       "      <th>clicks</th>\n",
       "      <th>significance</th>\n",
       "      <th>first_place</th>\n",
       "      <th>winner</th>\n",
       "      <th>share_text</th>\n",
       "      <th>square</th>\n",
       "      <th>test_week</th>\n",
       "    </tr>\n",
       "  </thead>\n",
       "  <tbody>\n",
       "    <tr>\n",
       "      <th>0</th>\n",
       "      <td>2014-11-20 06:43:16.005</td>\n",
       "      <td>2016-04-02 16:33:38.062</td>\n",
       "      <td>546d88fb84ad38b2ce000024</td>\n",
       "      <td>Things that matter. Pass 'em on.</td>\n",
       "      <td>They're Being Called 'Walmart's Worst Nightmar...</td>\n",
       "      <td>&lt;p&gt;When I saw *why* people are calling them \"W...</td>\n",
       "      <td>theyre-being-called-walmarts-worst-nightmare-a...</td>\n",
       "      <td>546d6fa19ad54eec8d00002d</td>\n",
       "      <td>3052</td>\n",
       "      <td>150</td>\n",
       "      <td>100.0</td>\n",
       "      <td>True</td>\n",
       "      <td>True</td>\n",
       "      <td>Anyone who's ever felt guilty about shopping a...</td>\n",
       "      <td>NaN</td>\n",
       "      <td>201446</td>\n",
       "    </tr>\n",
       "    <tr>\n",
       "      <th>1</th>\n",
       "      <td>2014-11-20 06:54:36.335</td>\n",
       "      <td>2016-04-02 16:25:54.027</td>\n",
       "      <td>546d902c26714c6c44000039</td>\n",
       "      <td>Things that matter. Pass 'em on.</td>\n",
       "      <td>This Is What Sexism Against Men Sounds Like</td>\n",
       "      <td>&lt;p&gt;DISCLOSURE: I'm a dude. I have cried on mul...</td>\n",
       "      <td>this-is-what-sexism-against-men-sounds-like-am...</td>\n",
       "      <td>546bc55335992b86c8000043</td>\n",
       "      <td>3526</td>\n",
       "      <td>90</td>\n",
       "      <td>4.1</td>\n",
       "      <td>False</td>\n",
       "      <td>False</td>\n",
       "      <td>If you ever wondered, \"but what about the men?...</td>\n",
       "      <td>NaN</td>\n",
       "      <td>201446</td>\n",
       "    </tr>\n",
       "    <tr>\n",
       "      <th>2</th>\n",
       "      <td>2014-11-20 06:54:57.878</td>\n",
       "      <td>2016-04-02 16:31:45.671</td>\n",
       "      <td>546d902c26714c6c44000039</td>\n",
       "      <td>Things that matter. Pass 'em on.</td>\n",
       "      <td>This Is What Sexism Against Men Sounds Like</td>\n",
       "      <td>&lt;p&gt;DISCLOSURE: I'm a dude. I have cried on mul...</td>\n",
       "      <td>this-is-what-sexism-against-men-sounds-like-am...</td>\n",
       "      <td>546d900426714cd2dd00002e</td>\n",
       "      <td>3506</td>\n",
       "      <td>120</td>\n",
       "      <td>100.0</td>\n",
       "      <td>True</td>\n",
       "      <td>False</td>\n",
       "      <td>If you ever wondered, \"but what about the men?...</td>\n",
       "      <td>NaN</td>\n",
       "      <td>201446</td>\n",
       "    </tr>\n",
       "    <tr>\n",
       "      <th>3</th>\n",
       "      <td>2014-11-20 06:55:07.212</td>\n",
       "      <td>2016-04-02 16:25:54.029</td>\n",
       "      <td>546d902c26714c6c44000039</td>\n",
       "      <td>Things that matter. Pass 'em on.</td>\n",
       "      <td>This Is What Sexism Against Men Sounds Like</td>\n",
       "      <td>&lt;p&gt;DISCLOSURE: I'm a dude. I have cried on mul...</td>\n",
       "      <td>this-is-what-sexism-against-men-sounds-like-am...</td>\n",
       "      <td>546d900426714c6c44000038</td>\n",
       "      <td>3380</td>\n",
       "      <td>98</td>\n",
       "      <td>25.3</td>\n",
       "      <td>False</td>\n",
       "      <td>False</td>\n",
       "      <td>If you ever wondered, \"but what about the men?...</td>\n",
       "      <td>NaN</td>\n",
       "      <td>201446</td>\n",
       "    </tr>\n",
       "    <tr>\n",
       "      <th>4</th>\n",
       "      <td>2014-11-20 06:55:20.347</td>\n",
       "      <td>2016-04-02 16:25:54.032</td>\n",
       "      <td>546d902c26714c6c44000039</td>\n",
       "      <td>Things that matter. Pass 'em on.</td>\n",
       "      <td>This Is What Sexism Against Men Sounds Like</td>\n",
       "      <td>&lt;p&gt;DISCLOSURE: I'm a dude. I have cried on mul...</td>\n",
       "      <td>this-is-what-sexism-against-men-sounds-like-am...</td>\n",
       "      <td>546d900426714c1ad900001e</td>\n",
       "      <td>3465</td>\n",
       "      <td>75</td>\n",
       "      <td>0.2</td>\n",
       "      <td>False</td>\n",
       "      <td>False</td>\n",
       "      <td>If you ever wondered, \"but what about the men?...</td>\n",
       "      <td>NaN</td>\n",
       "      <td>201446</td>\n",
       "    </tr>\n",
       "  </tbody>\n",
       "</table>\n",
       "</div>"
      ],
      "text/plain": [
       "                created_at               updated_at      clickability_test_id  \\\n",
       "0  2014-11-20 06:43:16.005  2016-04-02 16:33:38.062  546d88fb84ad38b2ce000024   \n",
       "1  2014-11-20 06:54:36.335  2016-04-02 16:25:54.027  546d902c26714c6c44000039   \n",
       "2  2014-11-20 06:54:57.878  2016-04-02 16:31:45.671  546d902c26714c6c44000039   \n",
       "3  2014-11-20 06:55:07.212  2016-04-02 16:25:54.029  546d902c26714c6c44000039   \n",
       "4  2014-11-20 06:55:20.347  2016-04-02 16:25:54.032  546d902c26714c6c44000039   \n",
       "\n",
       "                            excerpt  \\\n",
       "0  Things that matter. Pass 'em on.   \n",
       "1  Things that matter. Pass 'em on.   \n",
       "2  Things that matter. Pass 'em on.   \n",
       "3  Things that matter. Pass 'em on.   \n",
       "4  Things that matter. Pass 'em on.   \n",
       "\n",
       "                                            headline  \\\n",
       "0  They're Being Called 'Walmart's Worst Nightmar...   \n",
       "1        This Is What Sexism Against Men Sounds Like   \n",
       "2        This Is What Sexism Against Men Sounds Like   \n",
       "3        This Is What Sexism Against Men Sounds Like   \n",
       "4        This Is What Sexism Against Men Sounds Like   \n",
       "\n",
       "                                                lede  \\\n",
       "0  <p>When I saw *why* people are calling them \"W...   \n",
       "1  <p>DISCLOSURE: I'm a dude. I have cried on mul...   \n",
       "2  <p>DISCLOSURE: I'm a dude. I have cried on mul...   \n",
       "3  <p>DISCLOSURE: I'm a dude. I have cried on mul...   \n",
       "4  <p>DISCLOSURE: I'm a dude. I have cried on mul...   \n",
       "\n",
       "                                                slug  \\\n",
       "0  theyre-being-called-walmarts-worst-nightmare-a...   \n",
       "1  this-is-what-sexism-against-men-sounds-like-am...   \n",
       "2  this-is-what-sexism-against-men-sounds-like-am...   \n",
       "3  this-is-what-sexism-against-men-sounds-like-am...   \n",
       "4  this-is-what-sexism-against-men-sounds-like-am...   \n",
       "\n",
       "              eyecatcher_id  impressions  clicks  significance  first_place  \\\n",
       "0  546d6fa19ad54eec8d00002d         3052     150         100.0         True   \n",
       "1  546bc55335992b86c8000043         3526      90           4.1        False   \n",
       "2  546d900426714cd2dd00002e         3506     120         100.0         True   \n",
       "3  546d900426714c6c44000038         3380      98          25.3        False   \n",
       "4  546d900426714c1ad900001e         3465      75           0.2        False   \n",
       "\n",
       "   winner                                         share_text square  test_week  \n",
       "0    True  Anyone who's ever felt guilty about shopping a...    NaN     201446  \n",
       "1   False  If you ever wondered, \"but what about the men?...    NaN     201446  \n",
       "2   False  If you ever wondered, \"but what about the men?...    NaN     201446  \n",
       "3   False  If you ever wondered, \"but what about the men?...    NaN     201446  \n",
       "4   False  If you ever wondered, \"but what about the men?...    NaN     201446  "
      ]
     },
     "execution_count": 3,
     "metadata": {},
     "output_type": "execute_result"
    }
   ],
   "source": [
    "# Print first lines\n",
    "df.head()"
   ]
  },
  {
   "cell_type": "code",
   "execution_count": 35,
   "id": "6c63fa80",
   "metadata": {},
   "outputs": [
    {
     "data": {
      "text/html": [
       "<div>\n",
       "<style scoped>\n",
       "    .dataframe tbody tr th:only-of-type {\n",
       "        vertical-align: middle;\n",
       "    }\n",
       "\n",
       "    .dataframe tbody tr th {\n",
       "        vertical-align: top;\n",
       "    }\n",
       "\n",
       "    .dataframe thead th {\n",
       "        text-align: right;\n",
       "    }\n",
       "</style>\n",
       "<table border=\"1\" class=\"dataframe\">\n",
       "  <thead>\n",
       "    <tr style=\"text-align: right;\">\n",
       "      <th></th>\n",
       "      <th>created_at</th>\n",
       "      <th>updated_at</th>\n",
       "      <th>clickability_test_id</th>\n",
       "      <th>excerpt</th>\n",
       "      <th>headline</th>\n",
       "      <th>lede</th>\n",
       "      <th>slug</th>\n",
       "      <th>eyecatcher_id</th>\n",
       "      <th>impressions</th>\n",
       "      <th>clicks</th>\n",
       "      <th>significance</th>\n",
       "      <th>first_place</th>\n",
       "      <th>winner</th>\n",
       "      <th>share_text</th>\n",
       "      <th>square</th>\n",
       "      <th>test_week</th>\n",
       "    </tr>\n",
       "  </thead>\n",
       "  <tbody>\n",
       "    <tr>\n",
       "      <th>0</th>\n",
       "      <td>2014-11-20 06:43:16.005</td>\n",
       "      <td>2016-04-02 16:33:38.062</td>\n",
       "      <td>546d88fb84ad38b2ce000024</td>\n",
       "      <td>Things that matter. Pass 'em on.</td>\n",
       "      <td>They're Being Called 'Walmart's Worst Nightmar...</td>\n",
       "      <td>&lt;p&gt;When I saw *why* people are calling them \"W...</td>\n",
       "      <td>theyre-being-called-walmarts-worst-nightmare-a...</td>\n",
       "      <td>546d6fa19ad54eec8d00002d</td>\n",
       "      <td>3052</td>\n",
       "      <td>150</td>\n",
       "      <td>100.0</td>\n",
       "      <td>True</td>\n",
       "      <td>True</td>\n",
       "      <td>Anyone who's ever felt guilty about shopping a...</td>\n",
       "      <td>NaN</td>\n",
       "      <td>201446</td>\n",
       "    </tr>\n",
       "    <tr>\n",
       "      <th>1</th>\n",
       "      <td>2014-11-20 06:54:36.335</td>\n",
       "      <td>2016-04-02 16:25:54.027</td>\n",
       "      <td>546d902c26714c6c44000039</td>\n",
       "      <td>Things that matter. Pass 'em on.</td>\n",
       "      <td>This Is What Sexism Against Men Sounds Like</td>\n",
       "      <td>&lt;p&gt;DISCLOSURE: I'm a dude. I have cried on mul...</td>\n",
       "      <td>this-is-what-sexism-against-men-sounds-like-am...</td>\n",
       "      <td>546bc55335992b86c8000043</td>\n",
       "      <td>3526</td>\n",
       "      <td>90</td>\n",
       "      <td>4.1</td>\n",
       "      <td>False</td>\n",
       "      <td>False</td>\n",
       "      <td>If you ever wondered, \"but what about the men?...</td>\n",
       "      <td>NaN</td>\n",
       "      <td>201446</td>\n",
       "    </tr>\n",
       "    <tr>\n",
       "      <th>2</th>\n",
       "      <td>2014-11-20 06:54:57.878</td>\n",
       "      <td>2016-04-02 16:31:45.671</td>\n",
       "      <td>546d902c26714c6c44000039</td>\n",
       "      <td>Things that matter. Pass 'em on.</td>\n",
       "      <td>This Is What Sexism Against Men Sounds Like</td>\n",
       "      <td>&lt;p&gt;DISCLOSURE: I'm a dude. I have cried on mul...</td>\n",
       "      <td>this-is-what-sexism-against-men-sounds-like-am...</td>\n",
       "      <td>546d900426714cd2dd00002e</td>\n",
       "      <td>3506</td>\n",
       "      <td>120</td>\n",
       "      <td>100.0</td>\n",
       "      <td>True</td>\n",
       "      <td>False</td>\n",
       "      <td>If you ever wondered, \"but what about the men?...</td>\n",
       "      <td>NaN</td>\n",
       "      <td>201446</td>\n",
       "    </tr>\n",
       "    <tr>\n",
       "      <th>3</th>\n",
       "      <td>2014-11-20 06:55:07.212</td>\n",
       "      <td>2016-04-02 16:25:54.029</td>\n",
       "      <td>546d902c26714c6c44000039</td>\n",
       "      <td>Things that matter. Pass 'em on.</td>\n",
       "      <td>This Is What Sexism Against Men Sounds Like</td>\n",
       "      <td>&lt;p&gt;DISCLOSURE: I'm a dude. I have cried on mul...</td>\n",
       "      <td>this-is-what-sexism-against-men-sounds-like-am...</td>\n",
       "      <td>546d900426714c6c44000038</td>\n",
       "      <td>3380</td>\n",
       "      <td>98</td>\n",
       "      <td>25.3</td>\n",
       "      <td>False</td>\n",
       "      <td>False</td>\n",
       "      <td>If you ever wondered, \"but what about the men?...</td>\n",
       "      <td>NaN</td>\n",
       "      <td>201446</td>\n",
       "    </tr>\n",
       "    <tr>\n",
       "      <th>4</th>\n",
       "      <td>2014-11-20 06:55:20.347</td>\n",
       "      <td>2016-04-02 16:25:54.032</td>\n",
       "      <td>546d902c26714c6c44000039</td>\n",
       "      <td>Things that matter. Pass 'em on.</td>\n",
       "      <td>This Is What Sexism Against Men Sounds Like</td>\n",
       "      <td>&lt;p&gt;DISCLOSURE: I'm a dude. I have cried on mul...</td>\n",
       "      <td>this-is-what-sexism-against-men-sounds-like-am...</td>\n",
       "      <td>546d900426714c1ad900001e</td>\n",
       "      <td>3465</td>\n",
       "      <td>75</td>\n",
       "      <td>0.2</td>\n",
       "      <td>False</td>\n",
       "      <td>False</td>\n",
       "      <td>If you ever wondered, \"but what about the men?...</td>\n",
       "      <td>NaN</td>\n",
       "      <td>201446</td>\n",
       "    </tr>\n",
       "    <tr>\n",
       "      <th>...</th>\n",
       "      <td>...</td>\n",
       "      <td>...</td>\n",
       "      <td>...</td>\n",
       "      <td>...</td>\n",
       "      <td>...</td>\n",
       "      <td>...</td>\n",
       "      <td>...</td>\n",
       "      <td>...</td>\n",
       "      <td>...</td>\n",
       "      <td>...</td>\n",
       "      <td>...</td>\n",
       "      <td>...</td>\n",
       "      <td>...</td>\n",
       "      <td>...</td>\n",
       "      <td>...</td>\n",
       "      <td>...</td>\n",
       "    </tr>\n",
       "    <tr>\n",
       "      <th>20598</th>\n",
       "      <td>2014-11-20 01:22:43.054</td>\n",
       "      <td>2016-04-02 16:25:53.914</td>\n",
       "      <td>546d373426714cde76000018</td>\n",
       "      <td>Things that matter. Pass 'em on.</td>\n",
       "      <td>Newsflash: Black People Travel Too. Here's Why.</td>\n",
       "      <td>&lt;p&gt;Travel isn't just a luxury or indulgence an...</td>\n",
       "      <td>newsflash-black-people-travel-too-heres-why-ew...</td>\n",
       "      <td>546d398a9ad54eec8d00000f</td>\n",
       "      <td>3575</td>\n",
       "      <td>15</td>\n",
       "      <td>0.0</td>\n",
       "      <td>False</td>\n",
       "      <td>False</td>\n",
       "      <td>NaN</td>\n",
       "      <td>NaN</td>\n",
       "      <td>201446</td>\n",
       "    </tr>\n",
       "    <tr>\n",
       "      <th>20599</th>\n",
       "      <td>2014-11-20 01:21:49.197</td>\n",
       "      <td>2016-04-02 16:25:53.916</td>\n",
       "      <td>546d373426714cde76000018</td>\n",
       "      <td>Things that matter. Pass 'em on.</td>\n",
       "      <td>5 Reasons You May Need To Plan A Vacation - Ri...</td>\n",
       "      <td>&lt;p&gt;Travel isn't just a luxury or indulgence an...</td>\n",
       "      <td>5-reasons-you-may-need-to-plan-a-vacation-righ...</td>\n",
       "      <td>546d398a9ad54eec8d00000f</td>\n",
       "      <td>3724</td>\n",
       "      <td>18</td>\n",
       "      <td>0.0</td>\n",
       "      <td>True</td>\n",
       "      <td>False</td>\n",
       "      <td>NaN</td>\n",
       "      <td>NaN</td>\n",
       "      <td>201446</td>\n",
       "    </tr>\n",
       "    <tr>\n",
       "      <th>20600</th>\n",
       "      <td>2014-11-20 01:23:31.203</td>\n",
       "      <td>2016-04-02 16:31:40.651</td>\n",
       "      <td>546d373426714cde76000018</td>\n",
       "      <td>Things that matter. Pass 'em on.</td>\n",
       "      <td>The Next Time You Encounter A Small Minded Big...</td>\n",
       "      <td>&lt;p&gt;Travel isn't just a luxury or indulgence an...</td>\n",
       "      <td>the-next-time-you-encounter-a-small-minded-big...</td>\n",
       "      <td>546d398a9ad54eec8d00000f</td>\n",
       "      <td>3728</td>\n",
       "      <td>23</td>\n",
       "      <td>0.0</td>\n",
       "      <td>False</td>\n",
       "      <td>False</td>\n",
       "      <td>NaN</td>\n",
       "      <td>NaN</td>\n",
       "      <td>201446</td>\n",
       "    </tr>\n",
       "    <tr>\n",
       "      <th>20601</th>\n",
       "      <td>2014-11-20 01:24:23.415</td>\n",
       "      <td>2016-04-02 16:31:50.079</td>\n",
       "      <td>546d373426714cde76000018</td>\n",
       "      <td>Things that matter. Pass 'em on.</td>\n",
       "      <td>I've Never Wanted To Buy A Plane Ticket More T...</td>\n",
       "      <td>&lt;p&gt;Travel isn't just a luxury or indulgence an...</td>\n",
       "      <td>ive-never-wanted-to-buy-a-plane-ticket-more-th...</td>\n",
       "      <td>546d398a9ad54eec8d00000f</td>\n",
       "      <td>3581</td>\n",
       "      <td>21</td>\n",
       "      <td>0.0</td>\n",
       "      <td>False</td>\n",
       "      <td>False</td>\n",
       "      <td>NaN</td>\n",
       "      <td>NaN</td>\n",
       "      <td>201446</td>\n",
       "    </tr>\n",
       "    <tr>\n",
       "      <th>20602</th>\n",
       "      <td>2015-01-14 17:11:40.585</td>\n",
       "      <td>2016-04-02 16:24:27.29</td>\n",
       "      <td>54b6a21662646300182c0000</td>\n",
       "      <td>It all makes sense now.</td>\n",
       "      <td>3 Ladies Having Too Much Fun At The Epicenter ...</td>\n",
       "      <td>&lt;p&gt;The Frackettes want to remind you of one im...</td>\n",
       "      <td>3-ladies-having-too-much-fun-at-the-epicenter-...</td>\n",
       "      <td>54b6a2df3931650012620000</td>\n",
       "      <td>3425</td>\n",
       "      <td>37</td>\n",
       "      <td>100.0</td>\n",
       "      <td>True</td>\n",
       "      <td>False</td>\n",
       "      <td>NaN</td>\n",
       "      <td>NaN</td>\n",
       "      <td>201502</td>\n",
       "    </tr>\n",
       "  </tbody>\n",
       "</table>\n",
       "<p>20603 rows × 16 columns</p>\n",
       "</div>"
      ],
      "text/plain": [
       "                    created_at               updated_at  \\\n",
       "0      2014-11-20 06:43:16.005  2016-04-02 16:33:38.062   \n",
       "1      2014-11-20 06:54:36.335  2016-04-02 16:25:54.027   \n",
       "2      2014-11-20 06:54:57.878  2016-04-02 16:31:45.671   \n",
       "3      2014-11-20 06:55:07.212  2016-04-02 16:25:54.029   \n",
       "4      2014-11-20 06:55:20.347  2016-04-02 16:25:54.032   \n",
       "...                        ...                      ...   \n",
       "20598  2014-11-20 01:22:43.054  2016-04-02 16:25:53.914   \n",
       "20599  2014-11-20 01:21:49.197  2016-04-02 16:25:53.916   \n",
       "20600  2014-11-20 01:23:31.203  2016-04-02 16:31:40.651   \n",
       "20601  2014-11-20 01:24:23.415  2016-04-02 16:31:50.079   \n",
       "20602  2015-01-14 17:11:40.585   2016-04-02 16:24:27.29   \n",
       "\n",
       "           clickability_test_id                           excerpt  \\\n",
       "0      546d88fb84ad38b2ce000024  Things that matter. Pass 'em on.   \n",
       "1      546d902c26714c6c44000039  Things that matter. Pass 'em on.   \n",
       "2      546d902c26714c6c44000039  Things that matter. Pass 'em on.   \n",
       "3      546d902c26714c6c44000039  Things that matter. Pass 'em on.   \n",
       "4      546d902c26714c6c44000039  Things that matter. Pass 'em on.   \n",
       "...                         ...                               ...   \n",
       "20598  546d373426714cde76000018  Things that matter. Pass 'em on.   \n",
       "20599  546d373426714cde76000018  Things that matter. Pass 'em on.   \n",
       "20600  546d373426714cde76000018  Things that matter. Pass 'em on.   \n",
       "20601  546d373426714cde76000018  Things that matter. Pass 'em on.   \n",
       "20602  54b6a21662646300182c0000           It all makes sense now.   \n",
       "\n",
       "                                                headline  \\\n",
       "0      They're Being Called 'Walmart's Worst Nightmar...   \n",
       "1            This Is What Sexism Against Men Sounds Like   \n",
       "2            This Is What Sexism Against Men Sounds Like   \n",
       "3            This Is What Sexism Against Men Sounds Like   \n",
       "4            This Is What Sexism Against Men Sounds Like   \n",
       "...                                                  ...   \n",
       "20598    Newsflash: Black People Travel Too. Here's Why.   \n",
       "20599  5 Reasons You May Need To Plan A Vacation - Ri...   \n",
       "20600  The Next Time You Encounter A Small Minded Big...   \n",
       "20601  I've Never Wanted To Buy A Plane Ticket More T...   \n",
       "20602  3 Ladies Having Too Much Fun At The Epicenter ...   \n",
       "\n",
       "                                                    lede  \\\n",
       "0      <p>When I saw *why* people are calling them \"W...   \n",
       "1      <p>DISCLOSURE: I'm a dude. I have cried on mul...   \n",
       "2      <p>DISCLOSURE: I'm a dude. I have cried on mul...   \n",
       "3      <p>DISCLOSURE: I'm a dude. I have cried on mul...   \n",
       "4      <p>DISCLOSURE: I'm a dude. I have cried on mul...   \n",
       "...                                                  ...   \n",
       "20598  <p>Travel isn't just a luxury or indulgence an...   \n",
       "20599  <p>Travel isn't just a luxury or indulgence an...   \n",
       "20600  <p>Travel isn't just a luxury or indulgence an...   \n",
       "20601  <p>Travel isn't just a luxury or indulgence an...   \n",
       "20602  <p>The Frackettes want to remind you of one im...   \n",
       "\n",
       "                                                    slug  \\\n",
       "0      theyre-being-called-walmarts-worst-nightmare-a...   \n",
       "1      this-is-what-sexism-against-men-sounds-like-am...   \n",
       "2      this-is-what-sexism-against-men-sounds-like-am...   \n",
       "3      this-is-what-sexism-against-men-sounds-like-am...   \n",
       "4      this-is-what-sexism-against-men-sounds-like-am...   \n",
       "...                                                  ...   \n",
       "20598  newsflash-black-people-travel-too-heres-why-ew...   \n",
       "20599  5-reasons-you-may-need-to-plan-a-vacation-righ...   \n",
       "20600  the-next-time-you-encounter-a-small-minded-big...   \n",
       "20601  ive-never-wanted-to-buy-a-plane-ticket-more-th...   \n",
       "20602  3-ladies-having-too-much-fun-at-the-epicenter-...   \n",
       "\n",
       "                  eyecatcher_id  impressions  clicks  significance  \\\n",
       "0      546d6fa19ad54eec8d00002d         3052     150         100.0   \n",
       "1      546bc55335992b86c8000043         3526      90           4.1   \n",
       "2      546d900426714cd2dd00002e         3506     120         100.0   \n",
       "3      546d900426714c6c44000038         3380      98          25.3   \n",
       "4      546d900426714c1ad900001e         3465      75           0.2   \n",
       "...                         ...          ...     ...           ...   \n",
       "20598  546d398a9ad54eec8d00000f         3575      15           0.0   \n",
       "20599  546d398a9ad54eec8d00000f         3724      18           0.0   \n",
       "20600  546d398a9ad54eec8d00000f         3728      23           0.0   \n",
       "20601  546d398a9ad54eec8d00000f         3581      21           0.0   \n",
       "20602  54b6a2df3931650012620000         3425      37         100.0   \n",
       "\n",
       "       first_place  winner                                         share_text  \\\n",
       "0             True    True  Anyone who's ever felt guilty about shopping a...   \n",
       "1            False   False  If you ever wondered, \"but what about the men?...   \n",
       "2             True   False  If you ever wondered, \"but what about the men?...   \n",
       "3            False   False  If you ever wondered, \"but what about the men?...   \n",
       "4            False   False  If you ever wondered, \"but what about the men?...   \n",
       "...            ...     ...                                                ...   \n",
       "20598        False   False                                                NaN   \n",
       "20599         True   False                                                NaN   \n",
       "20600        False   False                                                NaN   \n",
       "20601        False   False                                                NaN   \n",
       "20602         True   False                                                NaN   \n",
       "\n",
       "      square  test_week  \n",
       "0        NaN     201446  \n",
       "1        NaN     201446  \n",
       "2        NaN     201446  \n",
       "3        NaN     201446  \n",
       "4        NaN     201446  \n",
       "...      ...        ...  \n",
       "20598    NaN     201446  \n",
       "20599    NaN     201446  \n",
       "20600    NaN     201446  \n",
       "20601    NaN     201446  \n",
       "20602    NaN     201502  \n",
       "\n",
       "[20603 rows x 16 columns]"
      ]
     },
     "execution_count": 35,
     "metadata": {},
     "output_type": "execute_result"
    }
   ],
   "source": [
    "df"
   ]
  },
  {
   "cell_type": "markdown",
   "id": "85b4864b",
   "metadata": {},
   "source": [
    "1.2 Each experiment comparing different versions of the same news piece (\"packages\") has a unique identifier (`clickability_test_id` column). \n",
    "Calculate how many different experiments were conducted in this dataset and, on average, how many packages were considered per experiment. \n",
    "Last, plot the distribution of packages per experiment with a visualization of your choice.\n",
    "\n"
   ]
  },
  {
   "cell_type": "markdown",
   "id": "37cf4052",
   "metadata": {},
   "source": [
    "- There is a total number of 4822 experiments."
   ]
  },
  {
   "cell_type": "code",
   "execution_count": 4,
   "id": "606135b4",
   "metadata": {},
   "outputs": [
    {
     "data": {
      "text/plain": [
       "53480581be4154443a000008    14\n",
       "5308c3271e030e5930000003    11\n",
       "530803f8f3b21fc7e900002f    11\n",
       "535160d2c82697cd66000020    11\n",
       "52d6bee6b20e4e324a002596    11\n",
       "                            ..\n",
       "54b8127c386537001f030000     1\n",
       "54b7086d656562001f080000     1\n",
       "54b82615356636001f000000     1\n",
       "54bac64330323500132b0000     1\n",
       "546d88fb84ad38b2ce000024     1\n",
       "Name: clickability_test_id, Length: 4822, dtype: int64"
      ]
     },
     "execution_count": 4,
     "metadata": {},
     "output_type": "execute_result"
    }
   ],
   "source": [
    "clickability_test_id_value_counts = df['clickability_test_id'].value_counts()\n",
    "clickability_test_id_value_counts"
   ]
  },
  {
   "cell_type": "markdown",
   "id": "4adbfc0b",
   "metadata": {},
   "source": [
    "- On average there are around 4.27 packages for each experiment."
   ]
  },
  {
   "cell_type": "code",
   "execution_count": 5,
   "id": "0cfa3a9b",
   "metadata": {
    "scrolled": true
   },
   "outputs": [
    {
     "data": {
      "text/plain": [
       "count    4822.000000\n",
       "mean        4.272708\n",
       "std         1.444858\n",
       "min         1.000000\n",
       "25%         4.000000\n",
       "50%         4.000000\n",
       "75%         5.000000\n",
       "max        14.000000\n",
       "Name: clickability_test_id, dtype: float64"
      ]
     },
     "execution_count": 5,
     "metadata": {},
     "output_type": "execute_result"
    }
   ],
   "source": [
    "clickability_test_id_value_counts.describe()"
   ]
  },
  {
   "cell_type": "markdown",
   "id": "ccdbe42f",
   "metadata": {},
   "source": [
    "- Distribution of packages per experiment:"
   ]
  },
  {
   "cell_type": "code",
   "execution_count": 6,
   "id": "760db4af",
   "metadata": {},
   "outputs": [
    {
     "data": {
      "image/png": "[encoded data removed]",
      "text/plain": [
       "<Figure size 432x288 with 1 Axes>"
      ]
     },
     "metadata": {
      "needs_background": "light"
     },
     "output_type": "display_data"
    }
   ],
   "source": [
    "plt.hist(clickability_test_id_value_counts,bins=14)\n",
    "plt.title('Histogram of packages per experiment')\n",
    "plt.ylabel('Number of experiments')\n",
    "plt.xlabel('Packages')\n",
    "plt.show()"
   ]
  },
  {
   "cell_type": "code",
   "execution_count": 7,
   "id": "b6303eb6",
   "metadata": {},
   "outputs": [
    {
     "data": {
      "image/png": "[encoded data removed]",
      "text/plain": [
       "<Figure size 432x288 with 1 Axes>"
      ]
     },
     "metadata": {
      "needs_background": "light"
     },
     "output_type": "display_data"
    }
   ],
   "source": [
    "plt.hist(clickability_test_id_value_counts,bins=14, log=True)\n",
    "plt.title('Histogram of packages per experiment')\n",
    "plt.ylabel('Number of experiments')\n",
    "plt.xlabel('Packages')\n",
    "plt.show()"
   ]
  },
  {
   "cell_type": "markdown",
   "id": "0fef864f",
   "metadata": {},
   "source": [
    "1.3 A common way to measure success in online A/B tests is what is called \"the clickthrough rate.\"\n",
    "Given that often A/B tests are created to find what engages users (here, \"packages\" of headlines, images, etc), we would expect that a \"good\" package makes people click often. \n",
    "Create a column named `ctr` by dividing the number of clicks a package received (`clicks` column) by the number of impressions it received (`impressions` column)."
   ]
  },
  {
   "cell_type": "code",
   "execution_count": 8,
   "id": "7c91b591",
   "metadata": {},
   "outputs": [
    {
     "data": {
      "text/plain": [
       "False"
      ]
     },
     "execution_count": 8,
     "metadata": {},
     "output_type": "execute_result"
    }
   ],
   "source": [
    "# No NaN in column impressions\n",
    "df['impressions'].isnull().any()"
   ]
  },
  {
   "cell_type": "code",
   "execution_count": 9,
   "id": "9e5b4ee3",
   "metadata": {},
   "outputs": [
    {
     "data": {
      "text/plain": [
       "False"
      ]
     },
     "execution_count": 9,
     "metadata": {},
     "output_type": "execute_result"
    }
   ],
   "source": [
    "# No NaN in column clicks\n",
    "df['clicks'].isnull().any()"
   ]
  },
  {
   "cell_type": "code",
   "execution_count": 10,
   "id": "b8062d43",
   "metadata": {},
   "outputs": [
    {
     "data": {
      "text/plain": [
       "False"
      ]
     },
     "execution_count": 10,
     "metadata": {},
     "output_type": "execute_result"
    }
   ],
   "source": [
    "# No zero values in column impressions\n",
    "(df['impressions']==0).any()"
   ]
  },
  {
   "cell_type": "code",
   "execution_count": 11,
   "id": "e4f7efc9",
   "metadata": {},
   "outputs": [],
   "source": [
    "# New column\n",
    "df['ctr'] = df['clicks']/df['impressions']"
   ]
  },
  {
   "cell_type": "code",
   "execution_count": 12,
   "id": "43aea233",
   "metadata": {},
   "outputs": [
    {
     "data": {
      "text/plain": [
       "0        0.049148\n",
       "1        0.025525\n",
       "2        0.034227\n",
       "3        0.028994\n",
       "4        0.021645\n",
       "           ...   \n",
       "20598    0.004196\n",
       "20599    0.004834\n",
       "20600    0.006170\n",
       "20601    0.005864\n",
       "20602    0.010803\n",
       "Name: ctr, Length: 20603, dtype: float64"
      ]
     },
     "execution_count": 12,
     "metadata": {},
     "output_type": "execute_result"
    }
   ],
   "source": [
    "# Overview of the new column 'ctr'\n",
    "df['ctr']"
   ]
  },
  {
   "cell_type": "markdown",
   "id": "3fadd13a",
   "metadata": {},
   "source": [
    "1.4 Packages varied any combination of the headline (`headline` column), the excerpt (`excerpt`), the first sentence of the article (`lede`), and the image that illustrates the news piece (`eyecatcher_id`, a hash per image). \n",
    "But we want to isolate the effect of the headline on the clickthrough rate. To do that, create a new dataframe where you filter all experiments where only one headline is present. \n",
    "Print the length of this new dataframe and how many experiments were discarded in the filtering process."
   ]
  },
  {
   "cell_type": "code",
   "execution_count": 13,
   "id": "6f6cc6e4",
   "metadata": {
    "scrolled": false
   },
   "outputs": [
    {
     "data": {
      "text/plain": [
       "53480581be4154443a000008    14\n",
       "5308c3271e030e5930000003    11\n",
       "530803f8f3b21fc7e900002f    11\n",
       "535160d2c82697cd66000020    11\n",
       "52d6bee6b20e4e324a002596    11\n",
       "                            ..\n",
       "54575c09ce7a29e782000012     2\n",
       "52ab739f345aa8cdf000085a     2\n",
       "540e59af4c80412fe9000024     2\n",
       "51b8ef16d5b1ebd8e5000bdb     2\n",
       "52296faae4c53862b700490a     2\n",
       "Name: clickability_test_id, Length: 4533, dtype: int64"
      ]
     },
     "execution_count": 13,
     "metadata": {},
     "output_type": "execute_result"
    }
   ],
   "source": [
    "# Select id of experiments that appear at least 2 times\n",
    "experiment_more_one_counts = clickability_test_id_value_counts[df['clickability_test_id'].value_counts() > 1]\n",
    "experiment_more_one_counts"
   ]
  },
  {
   "cell_type": "code",
   "execution_count": 14,
   "id": "3c82fdb2",
   "metadata": {},
   "outputs": [],
   "source": [
    "# Create a dataframe with experiments that appear at least 2 times\n",
    "df_experiment = df[df['clickability_test_id'].isin(experiment_more_one_counts.index)]"
   ]
  },
  {
   "cell_type": "code",
   "execution_count": 15,
   "id": "69008779",
   "metadata": {
    "scrolled": true
   },
   "outputs": [
    {
     "data": {
      "text/plain": [
       "False"
      ]
     },
     "execution_count": 15,
     "metadata": {},
     "output_type": "execute_result"
    }
   ],
   "source": [
    "# Check if 'headline' contains NaN values\n",
    "df_experiment['headline'].isnull().values.any()"
   ]
  },
  {
   "cell_type": "code",
   "execution_count": 16,
   "id": "bc9348ac",
   "metadata": {},
   "outputs": [
    {
     "data": {
      "text/plain": [
       "False"
      ]
     },
     "execution_count": 16,
     "metadata": {},
     "output_type": "execute_result"
    }
   ],
   "source": [
    "# Check if 'clickability_test_id' contains NaN values\n",
    "df_experiment['clickability_test_id'].isnull().values.any()"
   ]
  },
  {
   "cell_type": "code",
   "execution_count": 17,
   "id": "0f46e6ce",
   "metadata": {},
   "outputs": [],
   "source": [
    "df_experiment.index = df_experiment.clickability_test_id"
   ]
  },
  {
   "cell_type": "code",
   "execution_count": 18,
   "id": "a8ff079f",
   "metadata": {},
   "outputs": [],
   "source": [
    "df_headline = df_experiment.copy()"
   ]
  },
  {
   "cell_type": "code",
   "execution_count": 19,
   "id": "d05354cc",
   "metadata": {
    "scrolled": true
   },
   "outputs": [],
   "source": [
    "for idx in experiment_more_one_counts.index:\n",
    "    if(len(df_experiment.loc[idx].headline.unique()) == 1):\n",
    "        df_headline.drop(index = idx, inplace = True)"
   ]
  },
  {
   "cell_type": "code",
   "execution_count": 20,
   "id": "e574afff",
   "metadata": {},
   "outputs": [],
   "source": [
    "# Reset the index\n",
    "df_headline.index = range(len(df_headline))"
   ]
  },
  {
   "cell_type": "code",
   "execution_count": 21,
   "id": "a7ac2c15",
   "metadata": {},
   "outputs": [
    {
     "data": {
      "text/html": [
       "<div>\n",
       "<style scoped>\n",
       "    .dataframe tbody tr th:only-of-type {\n",
       "        vertical-align: middle;\n",
       "    }\n",
       "\n",
       "    .dataframe tbody tr th {\n",
       "        vertical-align: top;\n",
       "    }\n",
       "\n",
       "    .dataframe thead th {\n",
       "        text-align: right;\n",
       "    }\n",
       "</style>\n",
       "<table border=\"1\" class=\"dataframe\">\n",
       "  <thead>\n",
       "    <tr style=\"text-align: right;\">\n",
       "      <th></th>\n",
       "      <th>created_at</th>\n",
       "      <th>updated_at</th>\n",
       "      <th>clickability_test_id</th>\n",
       "      <th>excerpt</th>\n",
       "      <th>headline</th>\n",
       "      <th>lede</th>\n",
       "      <th>slug</th>\n",
       "      <th>eyecatcher_id</th>\n",
       "      <th>impressions</th>\n",
       "      <th>clicks</th>\n",
       "      <th>significance</th>\n",
       "      <th>first_place</th>\n",
       "      <th>winner</th>\n",
       "      <th>share_text</th>\n",
       "      <th>square</th>\n",
       "      <th>test_week</th>\n",
       "      <th>ctr</th>\n",
       "    </tr>\n",
       "  </thead>\n",
       "  <tbody>\n",
       "    <tr>\n",
       "      <th>0</th>\n",
       "      <td>2014-11-20 14:57:52.478</td>\n",
       "      <td>2016-04-02 16:25:54.161</td>\n",
       "      <td>546e009a9ad54ec65b00004b</td>\n",
       "      <td>Things that matter. Pass 'em on.</td>\n",
       "      <td>What They Learned From The Scientist Was Terri...</td>\n",
       "      <td>&lt;p&gt;Some decent guys fighting for an important ...</td>\n",
       "      <td>what-they-learned-from-the-scientist-was-terri...</td>\n",
       "      <td>546c7f2dbadeb5788700000a</td>\n",
       "      <td>4594</td>\n",
       "      <td>51</td>\n",
       "      <td>20.7</td>\n",
       "      <td>False</td>\n",
       "      <td>False</td>\n",
       "      <td>NaN</td>\n",
       "      <td>NaN</td>\n",
       "      <td>201446</td>\n",
       "      <td>0.011101</td>\n",
       "    </tr>\n",
       "    <tr>\n",
       "      <th>1</th>\n",
       "      <td>2014-11-20 14:54:18.78</td>\n",
       "      <td>2016-04-02 16:25:54.159</td>\n",
       "      <td>546e009a9ad54ec65b00004b</td>\n",
       "      <td>Things that matter. Pass 'em on.</td>\n",
       "      <td>A Science Guy Helps 3 Dudes From America Under...</td>\n",
       "      <td>&lt;p&gt;Some decent guys fighting for an important ...</td>\n",
       "      <td>a-science-guy-helps-3-dudes-from-america-under...</td>\n",
       "      <td>546c7f2dbadeb5788700000a</td>\n",
       "      <td>4571</td>\n",
       "      <td>58</td>\n",
       "      <td>57.6</td>\n",
       "      <td>False</td>\n",
       "      <td>False</td>\n",
       "      <td>NaN</td>\n",
       "      <td>NaN</td>\n",
       "      <td>201446</td>\n",
       "      <td>0.012689</td>\n",
       "    </tr>\n",
       "    <tr>\n",
       "      <th>2</th>\n",
       "      <td>2014-11-20 15:04:49.517</td>\n",
       "      <td>2016-04-02 16:25:54.112</td>\n",
       "      <td>546e009a9ad54ec65b00004b</td>\n",
       "      <td>Things that matter. Pass 'em on.</td>\n",
       "      <td>He Sat Them Down And Told Them About An Immine...</td>\n",
       "      <td>&lt;p&gt;Some decent guys fighting for an important ...</td>\n",
       "      <td>he-sat-them-down-and-told-them-about-an-immine...</td>\n",
       "      <td>546c7f2dbadeb5788700000a</td>\n",
       "      <td>4601</td>\n",
       "      <td>27</td>\n",
       "      <td>0.0</td>\n",
       "      <td>False</td>\n",
       "      <td>False</td>\n",
       "      <td>NaN</td>\n",
       "      <td>NaN</td>\n",
       "      <td>201446</td>\n",
       "      <td>0.005868</td>\n",
       "    </tr>\n",
       "    <tr>\n",
       "      <th>3</th>\n",
       "      <td>2014-11-20 15:13:36.266</td>\n",
       "      <td>2016-04-02 16:31:47.52</td>\n",
       "      <td>546e009a9ad54ec65b00004b</td>\n",
       "      <td>Things that matter. Pass 'em on.</td>\n",
       "      <td>The 3 Of Them Needed To See It In Person, And ...</td>\n",
       "      <td>&lt;p&gt;Some decent guys fighting for an important ...</td>\n",
       "      <td>the-3-of-them-needed-to-see-it-in-person-and-t...</td>\n",
       "      <td>546c7f2dbadeb5788700000a</td>\n",
       "      <td>4567</td>\n",
       "      <td>63</td>\n",
       "      <td>100.0</td>\n",
       "      <td>True</td>\n",
       "      <td>False</td>\n",
       "      <td>NaN</td>\n",
       "      <td>NaN</td>\n",
       "      <td>201446</td>\n",
       "      <td>0.013795</td>\n",
       "    </tr>\n",
       "    <tr>\n",
       "      <th>4</th>\n",
       "      <td>2014-11-20 15:15:25.697</td>\n",
       "      <td>2016-04-02 16:25:54.117</td>\n",
       "      <td>546e009a9ad54ec65b00004b</td>\n",
       "      <td>Things that matter. Pass 'em on.</td>\n",
       "      <td>They May Not Be The Most Handsome Dudes, But T...</td>\n",
       "      <td>&lt;p&gt;Some decent guys fighting for an important ...</td>\n",
       "      <td>they-may-not-be-the-most-handsome-dudes-but-th...</td>\n",
       "      <td>546c7f2dbadeb5788700000a</td>\n",
       "      <td>4524</td>\n",
       "      <td>44</td>\n",
       "      <td>4.5</td>\n",
       "      <td>False</td>\n",
       "      <td>False</td>\n",
       "      <td>NaN</td>\n",
       "      <td>NaN</td>\n",
       "      <td>201446</td>\n",
       "      <td>0.009726</td>\n",
       "    </tr>\n",
       "    <tr>\n",
       "      <th>...</th>\n",
       "      <td>...</td>\n",
       "      <td>...</td>\n",
       "      <td>...</td>\n",
       "      <td>...</td>\n",
       "      <td>...</td>\n",
       "      <td>...</td>\n",
       "      <td>...</td>\n",
       "      <td>...</td>\n",
       "      <td>...</td>\n",
       "      <td>...</td>\n",
       "      <td>...</td>\n",
       "      <td>...</td>\n",
       "      <td>...</td>\n",
       "      <td>...</td>\n",
       "      <td>...</td>\n",
       "      <td>...</td>\n",
       "      <td>...</td>\n",
       "    </tr>\n",
       "    <tr>\n",
       "      <th>11595</th>\n",
       "      <td>2014-11-19 22:08:27.941</td>\n",
       "      <td>2016-04-02 16:25:53.856</td>\n",
       "      <td>546c503abadeb51585000003</td>\n",
       "      <td>Things that matter. Pass 'em on.</td>\n",
       "      <td>A Pen, Paper, And Watercolors Tell One Of The ...</td>\n",
       "      <td>&lt;p&gt;Sad but true: It took the deaths of several...</td>\n",
       "      <td>a-pen-paper-and-watercolors-tell-one-of-the-mo...</td>\n",
       "      <td>546c567f545240b352000009</td>\n",
       "      <td>1923</td>\n",
       "      <td>21</td>\n",
       "      <td>0.0</td>\n",
       "      <td>False</td>\n",
       "      <td>False</td>\n",
       "      <td>NaN</td>\n",
       "      <td>NaN</td>\n",
       "      <td>201446</td>\n",
       "      <td>0.010920</td>\n",
       "    </tr>\n",
       "    <tr>\n",
       "      <th>11596</th>\n",
       "      <td>2014-11-20 01:22:43.054</td>\n",
       "      <td>2016-04-02 16:25:53.914</td>\n",
       "      <td>546d373426714cde76000018</td>\n",
       "      <td>Things that matter. Pass 'em on.</td>\n",
       "      <td>Newsflash: Black People Travel Too. Here's Why.</td>\n",
       "      <td>&lt;p&gt;Travel isn't just a luxury or indulgence an...</td>\n",
       "      <td>newsflash-black-people-travel-too-heres-why-ew...</td>\n",
       "      <td>546d398a9ad54eec8d00000f</td>\n",
       "      <td>3575</td>\n",
       "      <td>15</td>\n",
       "      <td>0.0</td>\n",
       "      <td>False</td>\n",
       "      <td>False</td>\n",
       "      <td>NaN</td>\n",
       "      <td>NaN</td>\n",
       "      <td>201446</td>\n",
       "      <td>0.004196</td>\n",
       "    </tr>\n",
       "    <tr>\n",
       "      <th>11597</th>\n",
       "      <td>2014-11-20 01:21:49.197</td>\n",
       "      <td>2016-04-02 16:25:53.916</td>\n",
       "      <td>546d373426714cde76000018</td>\n",
       "      <td>Things that matter. Pass 'em on.</td>\n",
       "      <td>5 Reasons You May Need To Plan A Vacation - Ri...</td>\n",
       "      <td>&lt;p&gt;Travel isn't just a luxury or indulgence an...</td>\n",
       "      <td>5-reasons-you-may-need-to-plan-a-vacation-righ...</td>\n",
       "      <td>546d398a9ad54eec8d00000f</td>\n",
       "      <td>3724</td>\n",
       "      <td>18</td>\n",
       "      <td>0.0</td>\n",
       "      <td>True</td>\n",
       "      <td>False</td>\n",
       "      <td>NaN</td>\n",
       "      <td>NaN</td>\n",
       "      <td>201446</td>\n",
       "      <td>0.004834</td>\n",
       "    </tr>\n",
       "    <tr>\n",
       "      <th>11598</th>\n",
       "      <td>2014-11-20 01:23:31.203</td>\n",
       "      <td>2016-04-02 16:31:40.651</td>\n",
       "      <td>546d373426714cde76000018</td>\n",
       "      <td>Things that matter. Pass 'em on.</td>\n",
       "      <td>The Next Time You Encounter A Small Minded Big...</td>\n",
       "      <td>&lt;p&gt;Travel isn't just a luxury or indulgence an...</td>\n",
       "      <td>the-next-time-you-encounter-a-small-minded-big...</td>\n",
       "      <td>546d398a9ad54eec8d00000f</td>\n",
       "      <td>3728</td>\n",
       "      <td>23</td>\n",
       "      <td>0.0</td>\n",
       "      <td>False</td>\n",
       "      <td>False</td>\n",
       "      <td>NaN</td>\n",
       "      <td>NaN</td>\n",
       "      <td>201446</td>\n",
       "      <td>0.006170</td>\n",
       "    </tr>\n",
       "    <tr>\n",
       "      <th>11599</th>\n",
       "      <td>2014-11-20 01:24:23.415</td>\n",
       "      <td>2016-04-02 16:31:50.079</td>\n",
       "      <td>546d373426714cde76000018</td>\n",
       "      <td>Things that matter. Pass 'em on.</td>\n",
       "      <td>I've Never Wanted To Buy A Plane Ticket More T...</td>\n",
       "      <td>&lt;p&gt;Travel isn't just a luxury or indulgence an...</td>\n",
       "      <td>ive-never-wanted-to-buy-a-plane-ticket-more-th...</td>\n",
       "      <td>546d398a9ad54eec8d00000f</td>\n",
       "      <td>3581</td>\n",
       "      <td>21</td>\n",
       "      <td>0.0</td>\n",
       "      <td>False</td>\n",
       "      <td>False</td>\n",
       "      <td>NaN</td>\n",
       "      <td>NaN</td>\n",
       "      <td>201446</td>\n",
       "      <td>0.005864</td>\n",
       "    </tr>\n",
       "  </tbody>\n",
       "</table>\n",
       "<p>11600 rows × 17 columns</p>\n",
       "</div>"
      ],
      "text/plain": [
       "                    created_at               updated_at  \\\n",
       "0      2014-11-20 14:57:52.478  2016-04-02 16:25:54.161   \n",
       "1       2014-11-20 14:54:18.78  2016-04-02 16:25:54.159   \n",
       "2      2014-11-20 15:04:49.517  2016-04-02 16:25:54.112   \n",
       "3      2014-11-20 15:13:36.266   2016-04-02 16:31:47.52   \n",
       "4      2014-11-20 15:15:25.697  2016-04-02 16:25:54.117   \n",
       "...                        ...                      ...   \n",
       "11595  2014-11-19 22:08:27.941  2016-04-02 16:25:53.856   \n",
       "11596  2014-11-20 01:22:43.054  2016-04-02 16:25:53.914   \n",
       "11597  2014-11-20 01:21:49.197  2016-04-02 16:25:53.916   \n",
       "11598  2014-11-20 01:23:31.203  2016-04-02 16:31:40.651   \n",
       "11599  2014-11-20 01:24:23.415  2016-04-02 16:31:50.079   \n",
       "\n",
       "           clickability_test_id                           excerpt  \\\n",
       "0      546e009a9ad54ec65b00004b  Things that matter. Pass 'em on.   \n",
       "1      546e009a9ad54ec65b00004b  Things that matter. Pass 'em on.   \n",
       "2      546e009a9ad54ec65b00004b  Things that matter. Pass 'em on.   \n",
       "3      546e009a9ad54ec65b00004b  Things that matter. Pass 'em on.   \n",
       "4      546e009a9ad54ec65b00004b  Things that matter. Pass 'em on.   \n",
       "...                         ...                               ...   \n",
       "11595  546c503abadeb51585000003  Things that matter. Pass 'em on.   \n",
       "11596  546d373426714cde76000018  Things that matter. Pass 'em on.   \n",
       "11597  546d373426714cde76000018  Things that matter. Pass 'em on.   \n",
       "11598  546d373426714cde76000018  Things that matter. Pass 'em on.   \n",
       "11599  546d373426714cde76000018  Things that matter. Pass 'em on.   \n",
       "\n",
       "                                                headline  \\\n",
       "0      What They Learned From The Scientist Was Terri...   \n",
       "1      A Science Guy Helps 3 Dudes From America Under...   \n",
       "2      He Sat Them Down And Told Them About An Immine...   \n",
       "3      The 3 Of Them Needed To See It In Person, And ...   \n",
       "4      They May Not Be The Most Handsome Dudes, But T...   \n",
       "...                                                  ...   \n",
       "11595  A Pen, Paper, And Watercolors Tell One Of The ...   \n",
       "11596    Newsflash: Black People Travel Too. Here's Why.   \n",
       "11597  5 Reasons You May Need To Plan A Vacation - Ri...   \n",
       "11598  The Next Time You Encounter A Small Minded Big...   \n",
       "11599  I've Never Wanted To Buy A Plane Ticket More T...   \n",
       "\n",
       "                                                    lede  \\\n",
       "0      <p>Some decent guys fighting for an important ...   \n",
       "1      <p>Some decent guys fighting for an important ...   \n",
       "2      <p>Some decent guys fighting for an important ...   \n",
       "3      <p>Some decent guys fighting for an important ...   \n",
       "4      <p>Some decent guys fighting for an important ...   \n",
       "...                                                  ...   \n",
       "11595  <p>Sad but true: It took the deaths of several...   \n",
       "11596  <p>Travel isn't just a luxury or indulgence an...   \n",
       "11597  <p>Travel isn't just a luxury or indulgence an...   \n",
       "11598  <p>Travel isn't just a luxury or indulgence an...   \n",
       "11599  <p>Travel isn't just a luxury or indulgence an...   \n",
       "\n",
       "                                                    slug  \\\n",
       "0      what-they-learned-from-the-scientist-was-terri...   \n",
       "1      a-science-guy-helps-3-dudes-from-america-under...   \n",
       "2      he-sat-them-down-and-told-them-about-an-immine...   \n",
       "3      the-3-of-them-needed-to-see-it-in-person-and-t...   \n",
       "4      they-may-not-be-the-most-handsome-dudes-but-th...   \n",
       "...                                                  ...   \n",
       "11595  a-pen-paper-and-watercolors-tell-one-of-the-mo...   \n",
       "11596  newsflash-black-people-travel-too-heres-why-ew...   \n",
       "11597  5-reasons-you-may-need-to-plan-a-vacation-righ...   \n",
       "11598  the-next-time-you-encounter-a-small-minded-big...   \n",
       "11599  ive-never-wanted-to-buy-a-plane-ticket-more-th...   \n",
       "\n",
       "                  eyecatcher_id  impressions  clicks  significance  \\\n",
       "0      546c7f2dbadeb5788700000a         4594      51          20.7   \n",
       "1      546c7f2dbadeb5788700000a         4571      58          57.6   \n",
       "2      546c7f2dbadeb5788700000a         4601      27           0.0   \n",
       "3      546c7f2dbadeb5788700000a         4567      63         100.0   \n",
       "4      546c7f2dbadeb5788700000a         4524      44           4.5   \n",
       "...                         ...          ...     ...           ...   \n",
       "11595  546c567f545240b352000009         1923      21           0.0   \n",
       "11596  546d398a9ad54eec8d00000f         3575      15           0.0   \n",
       "11597  546d398a9ad54eec8d00000f         3724      18           0.0   \n",
       "11598  546d398a9ad54eec8d00000f         3728      23           0.0   \n",
       "11599  546d398a9ad54eec8d00000f         3581      21           0.0   \n",
       "\n",
       "       first_place  winner share_text square  test_week       ctr  \n",
       "0            False   False        NaN    NaN     201446  0.011101  \n",
       "1            False   False        NaN    NaN     201446  0.012689  \n",
       "2            False   False        NaN    NaN     201446  0.005868  \n",
       "3             True   False        NaN    NaN     201446  0.013795  \n",
       "4            False   False        NaN    NaN     201446  0.009726  \n",
       "...            ...     ...        ...    ...        ...       ...  \n",
       "11595        False   False        NaN    NaN     201446  0.010920  \n",
       "11596        False   False        NaN    NaN     201446  0.004196  \n",
       "11597         True   False        NaN    NaN     201446  0.004834  \n",
       "11598        False   False        NaN    NaN     201446  0.006170  \n",
       "11599        False   False        NaN    NaN     201446  0.005864  \n",
       "\n",
       "[11600 rows x 17 columns]"
      ]
     },
     "execution_count": 21,
     "metadata": {},
     "output_type": "execute_result"
    }
   ],
   "source": [
    "df_headline"
   ]
  },
  {
   "cell_type": "markdown",
   "id": "4527be92",
   "metadata": {},
   "source": [
    "- The new data frame df_headline contains all the experiments that used at least 2 different headlines. The new length of the dataset is 11600, we discarded 2236 experiments."
   ]
  },
  {
   "cell_type": "code",
   "execution_count": 22,
   "id": "ecd47bde",
   "metadata": {},
   "outputs": [
    {
     "name": "stdout",
     "output_type": "stream",
     "text": [
      "Length of the new dataset: 11600\n",
      "Discarded experiments: 2236\n"
     ]
    }
   ],
   "source": [
    "print(f'Length of the new dataset: {len(df_headline)}')\n",
    "print(f'Discarded experiments: {len(df.clickability_test_id.unique())-len(df_headline.clickability_test_id.unique())}')"
   ]
  },
  {
   "cell_type": "markdown",
   "id": "05eab3c5",
   "metadata": {},
   "source": [
    "1.5 For comparison, repeat the procedure described in **T1.4** with the `eyecatcher_id` column, i.e., create a dataframe considering only experiments that vary the image. \n",
    "Again, print the length of this new dataframe and how many experiments were discarded in the filtering process."
   ]
  },
  {
   "cell_type": "code",
   "execution_count": 23,
   "id": "efda9b7a",
   "metadata": {},
   "outputs": [
    {
     "data": {
      "text/plain": [
       "False"
      ]
     },
     "execution_count": 23,
     "metadata": {},
     "output_type": "execute_result"
    }
   ],
   "source": [
    "df_experiment = df[df['clickability_test_id'].isin(experiment_more_one_counts.index)]\n",
    "\n",
    "df_experiment['headline'].isnull().values.any()"
   ]
  },
  {
   "cell_type": "code",
   "execution_count": 24,
   "id": "2ac845f0",
   "metadata": {},
   "outputs": [],
   "source": [
    "df_experiment.index = df_experiment.clickability_test_id"
   ]
  },
  {
   "cell_type": "code",
   "execution_count": 25,
   "id": "265f2e65",
   "metadata": {},
   "outputs": [],
   "source": [
    "df_image = df_experiment.copy()"
   ]
  },
  {
   "cell_type": "code",
   "execution_count": 26,
   "id": "e5a9be09",
   "metadata": {},
   "outputs": [],
   "source": [
    "for idx in experiment_more_one_counts.index:\n",
    "    \n",
    "    if(len(df_experiment.loc[idx].eyecatcher_id.unique()) == 1):\n",
    "        df_image.drop(index = idx, inplace = True)"
   ]
  },
  {
   "cell_type": "code",
   "execution_count": 27,
   "id": "505eb4e7",
   "metadata": {},
   "outputs": [],
   "source": [
    "# Reset the index\n",
    "\n",
    "df_image.index = range(len(df_image))"
   ]
  },
  {
   "cell_type": "markdown",
   "id": "d2c2cef4",
   "metadata": {},
   "source": [
    "- The new data frame df_image contains all the experiments that used at least 2 different images. The new length of the dataset is 7930, we discarded 3108 experiments."
   ]
  },
  {
   "cell_type": "code",
   "execution_count": 28,
   "id": "f1402e62",
   "metadata": {},
   "outputs": [
    {
     "name": "stdout",
     "output_type": "stream",
     "text": [
      "Length of the new dataset: 7930\n",
      "Discarded experiments: 3108\n"
     ]
    }
   ],
   "source": [
    "print(f'Length of the new dataset: {len(df_image)}')\n",
    "print(f'Discarded experiments: {len(df.clickability_test_id.unique())-len(df_image.clickability_test_id.unique())}')"
   ]
  },
  {
   "cell_type": "markdown",
   "id": "1d3ac8a4",
   "metadata": {},
   "source": [
    "1.6 **Discuss:** Considering the answers to questions **T1.4** and **T1.5**, what can we say about the different versions of the news tested by Upworthy?"
   ]
  },
  {
   "cell_type": "markdown",
   "id": "76a74c5e",
   "metadata": {},
   "source": [
    "- There are more experiments with variation of the headline that with variation of the image."
   ]
  },
  {
   "cell_type": "markdown",
   "id": "e58be8c7",
   "metadata": {},
   "source": [
    "1.7 For our subsequent analysis, we want to compare the causal effect of headlines on the success of a news piece. \n",
    "For that, we can compare pairs of packages with the same `eyecatcher_id`, `lede`, and `excerpt`, but different `headlines`.\n",
    "Note that this means that if an experiment considered 5 different headlines and did not vary any other stimulus, we would have 5C2 (i.e., 5 choose 2, 10) pairs to consider.\n",
    "Create a dataset where:\n",
    "- each row corresponds to a pair of packages with different `headline` but the same `eyecatcher_id`, `lede`, and `excerpt`. \n",
    "- there are columns containing the headlines of each of the news versions (`headline1`, `headline2`) and the clickthrough rate of each of the news versions (`ctr1`, `ctr2`). \n",
    "- the columns `headline1` and `ctr1` contain the data associated with the news version with the highest clickthrough rate. Print the first columns of your newly created dataframe, as well as its length.\n",
    "-  the columns where the two news pieces had exactly the same clickthrough rate should be filtered out (this is for simplicity's sake).\n",
    "-  the column `date_created` contains the date when the news version with the highest clickthrough rate was created."
   ]
  },
  {
   "cell_type": "code",
   "execution_count": 29,
   "id": "f1c0a5b0",
   "metadata": {},
   "outputs": [
    {
     "data": {
      "text/plain": [
       "True"
      ]
     },
     "execution_count": 29,
     "metadata": {},
     "output_type": "execute_result"
    }
   ],
   "source": [
    "df['lede'].isnull().values.any()"
   ]
  },
  {
   "cell_type": "code",
   "execution_count": 30,
   "id": "05adb858",
   "metadata": {
    "scrolled": true
   },
   "outputs": [
    {
     "data": {
      "text/plain": [
       "True"
      ]
     },
     "execution_count": 30,
     "metadata": {},
     "output_type": "execute_result"
    }
   ],
   "source": [
    "df['excerpt'].isnull().values.any()"
   ]
  },
  {
   "cell_type": "code",
   "execution_count": 31,
   "id": "214a8d72",
   "metadata": {},
   "outputs": [
    {
     "data": {
      "text/plain": [
       "True"
      ]
     },
     "execution_count": 31,
     "metadata": {},
     "output_type": "execute_result"
    }
   ],
   "source": [
    "df['eyecatcher_id'].isnull().values.any()"
   ]
  },
  {
   "cell_type": "code",
   "execution_count": 32,
   "id": "22edec8a",
   "metadata": {},
   "outputs": [
    {
     "data": {
      "text/plain": [
       "False"
      ]
     },
     "execution_count": 32,
     "metadata": {},
     "output_type": "execute_result"
    }
   ],
   "source": [
    "df['clickability_test_id'].isnull().values.any()"
   ]
  },
  {
   "cell_type": "code",
   "execution_count": 33,
   "id": "36d64606",
   "metadata": {},
   "outputs": [
    {
     "data": {
      "text/plain": [
       "False"
      ]
     },
     "execution_count": 33,
     "metadata": {},
     "output_type": "execute_result"
    }
   ],
   "source": [
    "df['headline'].isnull().values.any()"
   ]
  },
  {
   "cell_type": "code",
   "execution_count": 34,
   "id": "16ffb74e",
   "metadata": {},
   "outputs": [],
   "source": [
    "df_new = df.copy()\n",
    "df_new = df_new[df_new['lede'].notna()]\n",
    "df_new = df_new[df_new['excerpt'].notna()]\n",
    "df_new = df_new[df_new['eyecatcher_id'].notna()]"
   ]
  },
  {
   "cell_type": "code",
   "execution_count": 35,
   "id": "b704b877",
   "metadata": {},
   "outputs": [
    {
     "data": {
      "text/plain": [
       "False"
      ]
     },
     "execution_count": 35,
     "metadata": {},
     "output_type": "execute_result"
    }
   ],
   "source": [
    "df_new['lede'].isnull().values.any()"
   ]
  },
  {
   "cell_type": "code",
   "execution_count": 36,
   "id": "e7f9da0f",
   "metadata": {},
   "outputs": [
    {
     "data": {
      "text/plain": [
       "False"
      ]
     },
     "execution_count": 36,
     "metadata": {},
     "output_type": "execute_result"
    }
   ],
   "source": [
    "df_new['excerpt'].isnull().values.any()"
   ]
  },
  {
   "cell_type": "code",
   "execution_count": 37,
   "id": "e5eece94",
   "metadata": {},
   "outputs": [],
   "source": [
    "df_new.index = df_new.clickability_test_id + df_new.eyecatcher_id + df_new.lede + df_new.excerpt"
   ]
  },
  {
   "cell_type": "code",
   "execution_count": 42,
   "id": "6eb540c8",
   "metadata": {},
   "outputs": [
    {
     "data": {
      "text/plain": [
       "11770"
      ]
     },
     "execution_count": 42,
     "metadata": {},
     "output_type": "execute_result"
    }
   ],
   "source": [
    "len(df_new.index.unique()) "
   ]
  },
  {
   "cell_type": "code",
   "execution_count": 43,
   "id": "3194793f",
   "metadata": {},
   "outputs": [
    {
     "data": {
      "text/plain": [
       "2209"
      ]
     },
     "execution_count": 43,
     "metadata": {},
     "output_type": "execute_result"
    }
   ],
   "source": [
    "len(df_new.index[df_new.index.duplicated()].unique())"
   ]
  },
  {
   "cell_type": "code",
   "execution_count": 45,
   "id": "a33e5fcd",
   "metadata": {},
   "outputs": [
    {
     "data": {
      "text/plain": [
       "8938"
      ]
     },
     "execution_count": 45,
     "metadata": {},
     "output_type": "execute_result"
    }
   ],
   "source": [
    "len(df_new[df_new.index.isin(df_new.index[df_new.index.duplicated()])])"
   ]
  },
  {
   "cell_type": "code",
   "execution_count": 49,
   "id": "85cb4000",
   "metadata": {},
   "outputs": [
    {
     "data": {
      "text/plain": [
       "18499"
      ]
     },
     "execution_count": 49,
     "metadata": {},
     "output_type": "execute_result"
    }
   ],
   "source": [
    "len(df_new.index.isin(df_new.index[df_new.index.duplicated()].unique()))"
   ]
  },
  {
   "cell_type": "code",
   "execution_count": 18,
   "id": "9c19e0a0",
   "metadata": {},
   "outputs": [],
   "source": [
    "non_unique_idx = df_new.index[df_new.index.duplicated()].unique()\n",
    "df_new = df_new[df_new.index.isin(non_unique_idx)]"
   ]
  },
  {
   "cell_type": "code",
   "execution_count": 21,
   "id": "5ed2793e",
   "metadata": {},
   "outputs": [],
   "source": [
    "df_pair = pd.DataFrame(columns=['headline1', 'headline2','ctr1','ctr2','date_created'])"
   ]
  },
  {
   "cell_type": "code",
   "execution_count": 27,
   "id": "89e3d02b",
   "metadata": {
    "scrolled": false
   },
   "outputs": [
    {
     "ename": "KeyboardInterrupt",
     "evalue": "",
     "output_type": "error",
     "traceback": [
      "\u001b[1;31m---------------------------------------------------------------------------\u001b[0m",
      "\u001b[1;31mKeyboardInterrupt\u001b[0m                         Traceback (most recent call last)",
      "\u001b[1;32m~\\AppData\\Local\\Temp/ipykernel_13616/1007979215.py\u001b[0m in \u001b[0;36m<module>\u001b[1;34m\u001b[0m\n\u001b[0;32m     10\u001b[0m \u001b[1;33m\u001b[0m\u001b[0m\n\u001b[0;32m     11\u001b[0m             \u001b[1;32mif\u001b[0m\u001b[1;33m(\u001b[0m\u001b[0mctr1\u001b[0m \u001b[1;33m>\u001b[0m \u001b[0mctr2\u001b[0m\u001b[1;33m)\u001b[0m\u001b[1;33m:\u001b[0m\u001b[1;33m\u001b[0m\u001b[1;33m\u001b[0m\u001b[0m\n\u001b[1;32m---> 12\u001b[1;33m                 \u001b[0mdate\u001b[0m \u001b[1;33m=\u001b[0m \u001b[0mdf_new\u001b[0m\u001b[1;33m[\u001b[0m\u001b[1;34m'created_at'\u001b[0m\u001b[1;33m]\u001b[0m\u001b[1;33m.\u001b[0m\u001b[0mloc\u001b[0m\u001b[1;33m[\u001b[0m\u001b[1;33m(\u001b[0m\u001b[0mdf_new\u001b[0m\u001b[1;33m.\u001b[0m\u001b[0mindex\u001b[0m \u001b[1;33m==\u001b[0m \u001b[0midx\u001b[0m\u001b[1;33m)\u001b[0m \u001b[1;33m&\u001b[0m \u001b[1;33m(\u001b[0m\u001b[0mdf_new\u001b[0m\u001b[1;33m.\u001b[0m\u001b[0mheadline\u001b[0m \u001b[1;33m==\u001b[0m \u001b[0mpair\u001b[0m\u001b[1;33m[\u001b[0m\u001b[1;36m0\u001b[0m\u001b[1;33m]\u001b[0m\u001b[1;33m)\u001b[0m \u001b[1;33m&\u001b[0m \u001b[1;33m(\u001b[0m\u001b[0mdf_new\u001b[0m\u001b[1;33m.\u001b[0m\u001b[0mctr\u001b[0m \u001b[1;33m==\u001b[0m \u001b[0mctr1\u001b[0m\u001b[1;33m)\u001b[0m\u001b[1;33m]\u001b[0m\u001b[1;33m[\u001b[0m\u001b[1;36m0\u001b[0m\u001b[1;33m]\u001b[0m\u001b[1;33m\u001b[0m\u001b[1;33m\u001b[0m\u001b[0m\n\u001b[0m\u001b[0;32m     13\u001b[0m                 \u001b[0mdf2\u001b[0m \u001b[1;33m=\u001b[0m \u001b[0mpd\u001b[0m\u001b[1;33m.\u001b[0m\u001b[0mDataFrame\u001b[0m\u001b[1;33m(\u001b[0m\u001b[1;33m{\u001b[0m\u001b[1;34m'headline1'\u001b[0m\u001b[1;33m:\u001b[0m \u001b[0mpair\u001b[0m\u001b[1;33m[\u001b[0m\u001b[1;36m0\u001b[0m\u001b[1;33m]\u001b[0m\u001b[1;33m,\u001b[0m \u001b[1;34m'headline2'\u001b[0m\u001b[1;33m:\u001b[0m \u001b[0mpair\u001b[0m\u001b[1;33m[\u001b[0m\u001b[1;36m1\u001b[0m\u001b[1;33m]\u001b[0m\u001b[1;33m,\u001b[0m\u001b[1;34m'ctr1'\u001b[0m\u001b[1;33m:\u001b[0m \u001b[1;33m[\u001b[0m\u001b[0mctr1\u001b[0m\u001b[1;33m]\u001b[0m\u001b[1;33m,\u001b[0m\u001b[1;34m'ctr2'\u001b[0m\u001b[1;33m:\u001b[0m \u001b[1;33m[\u001b[0m\u001b[0mctr2\u001b[0m\u001b[1;33m]\u001b[0m\u001b[1;33m,\u001b[0m \u001b[1;34m'date_created'\u001b[0m\u001b[1;33m:\u001b[0m \u001b[0mdate\u001b[0m\u001b[1;33m}\u001b[0m\u001b[1;33m)\u001b[0m\u001b[1;33m\u001b[0m\u001b[1;33m\u001b[0m\u001b[0m\n\u001b[0;32m     14\u001b[0m             \u001b[1;32melif\u001b[0m\u001b[1;33m(\u001b[0m\u001b[0mctr2\u001b[0m \u001b[1;33m>\u001b[0m \u001b[0mctr1\u001b[0m\u001b[1;33m)\u001b[0m\u001b[1;33m:\u001b[0m\u001b[1;33m\u001b[0m\u001b[1;33m\u001b[0m\u001b[0m\n",
      "\u001b[1;32m~\\anaconda3\\envs\\IPLAB\\lib\\site-packages\\pandas\\core\\ops\\common.py\u001b[0m in \u001b[0;36mnew_method\u001b[1;34m(self, other)\u001b[0m\n\u001b[0;32m     68\u001b[0m         \u001b[0mother\u001b[0m \u001b[1;33m=\u001b[0m \u001b[0mitem_from_zerodim\u001b[0m\u001b[1;33m(\u001b[0m\u001b[0mother\u001b[0m\u001b[1;33m)\u001b[0m\u001b[1;33m\u001b[0m\u001b[1;33m\u001b[0m\u001b[0m\n\u001b[0;32m     69\u001b[0m \u001b[1;33m\u001b[0m\u001b[0m\n\u001b[1;32m---> 70\u001b[1;33m         \u001b[1;32mreturn\u001b[0m \u001b[0mmethod\u001b[0m\u001b[1;33m(\u001b[0m\u001b[0mself\u001b[0m\u001b[1;33m,\u001b[0m \u001b[0mother\u001b[0m\u001b[1;33m)\u001b[0m\u001b[1;33m\u001b[0m\u001b[1;33m\u001b[0m\u001b[0m\n\u001b[0m\u001b[0;32m     71\u001b[0m \u001b[1;33m\u001b[0m\u001b[0m\n\u001b[0;32m     72\u001b[0m     \u001b[1;32mreturn\u001b[0m \u001b[0mnew_method\u001b[0m\u001b[1;33m\u001b[0m\u001b[1;33m\u001b[0m\u001b[0m\n",
      "\u001b[1;32m~\\anaconda3\\envs\\IPLAB\\lib\\site-packages\\pandas\\core\\arraylike.py\u001b[0m in \u001b[0;36m__eq__\u001b[1;34m(self, other)\u001b[0m\n\u001b[0;32m     38\u001b[0m     \u001b[1;33m@\u001b[0m\u001b[0munpack_zerodim_and_defer\u001b[0m\u001b[1;33m(\u001b[0m\u001b[1;34m\"__eq__\"\u001b[0m\u001b[1;33m)\u001b[0m\u001b[1;33m\u001b[0m\u001b[1;33m\u001b[0m\u001b[0m\n\u001b[0;32m     39\u001b[0m     \u001b[1;32mdef\u001b[0m \u001b[0m__eq__\u001b[0m\u001b[1;33m(\u001b[0m\u001b[0mself\u001b[0m\u001b[1;33m,\u001b[0m \u001b[0mother\u001b[0m\u001b[1;33m)\u001b[0m\u001b[1;33m:\u001b[0m\u001b[1;33m\u001b[0m\u001b[1;33m\u001b[0m\u001b[0m\n\u001b[1;32m---> 40\u001b[1;33m         \u001b[1;32mreturn\u001b[0m \u001b[0mself\u001b[0m\u001b[1;33m.\u001b[0m\u001b[0m_cmp_method\u001b[0m\u001b[1;33m(\u001b[0m\u001b[0mother\u001b[0m\u001b[1;33m,\u001b[0m \u001b[0moperator\u001b[0m\u001b[1;33m.\u001b[0m\u001b[0meq\u001b[0m\u001b[1;33m)\u001b[0m\u001b[1;33m\u001b[0m\u001b[1;33m\u001b[0m\u001b[0m\n\u001b[0m\u001b[0;32m     41\u001b[0m \u001b[1;33m\u001b[0m\u001b[0m\n\u001b[0;32m     42\u001b[0m     \u001b[1;33m@\u001b[0m\u001b[0munpack_zerodim_and_defer\u001b[0m\u001b[1;33m(\u001b[0m\u001b[1;34m\"__ne__\"\u001b[0m\u001b[1;33m)\u001b[0m\u001b[1;33m\u001b[0m\u001b[1;33m\u001b[0m\u001b[0m\n",
      "\u001b[1;32m~\\anaconda3\\envs\\IPLAB\\lib\\site-packages\\pandas\\core\\series.py\u001b[0m in \u001b[0;36m_cmp_method\u001b[1;34m(self, other, op)\u001b[0m\n\u001b[0;32m   5621\u001b[0m \u001b[1;33m\u001b[0m\u001b[0m\n\u001b[0;32m   5622\u001b[0m         \u001b[1;32mwith\u001b[0m \u001b[0mnp\u001b[0m\u001b[1;33m.\u001b[0m\u001b[0merrstate\u001b[0m\u001b[1;33m(\u001b[0m\u001b[0mall\u001b[0m\u001b[1;33m=\u001b[0m\u001b[1;34m\"ignore\"\u001b[0m\u001b[1;33m)\u001b[0m\u001b[1;33m:\u001b[0m\u001b[1;33m\u001b[0m\u001b[1;33m\u001b[0m\u001b[0m\n\u001b[1;32m-> 5623\u001b[1;33m             \u001b[0mres_values\u001b[0m \u001b[1;33m=\u001b[0m \u001b[0mops\u001b[0m\u001b[1;33m.\u001b[0m\u001b[0mcomparison_op\u001b[0m\u001b[1;33m(\u001b[0m\u001b[0mlvalues\u001b[0m\u001b[1;33m,\u001b[0m \u001b[0mrvalues\u001b[0m\u001b[1;33m,\u001b[0m \u001b[0mop\u001b[0m\u001b[1;33m)\u001b[0m\u001b[1;33m\u001b[0m\u001b[1;33m\u001b[0m\u001b[0m\n\u001b[0m\u001b[0;32m   5624\u001b[0m \u001b[1;33m\u001b[0m\u001b[0m\n\u001b[0;32m   5625\u001b[0m         \u001b[1;32mreturn\u001b[0m \u001b[0mself\u001b[0m\u001b[1;33m.\u001b[0m\u001b[0m_construct_result\u001b[0m\u001b[1;33m(\u001b[0m\u001b[0mres_values\u001b[0m\u001b[1;33m,\u001b[0m \u001b[0mname\u001b[0m\u001b[1;33m=\u001b[0m\u001b[0mres_name\u001b[0m\u001b[1;33m)\u001b[0m\u001b[1;33m\u001b[0m\u001b[1;33m\u001b[0m\u001b[0m\n",
      "\u001b[1;32m~\\anaconda3\\envs\\IPLAB\\lib\\site-packages\\pandas\\core\\ops\\array_ops.py\u001b[0m in \u001b[0;36mcomparison_op\u001b[1;34m(left, right, op)\u001b[0m\n\u001b[0;32m    284\u001b[0m \u001b[1;33m\u001b[0m\u001b[0m\n\u001b[0;32m    285\u001b[0m     \u001b[1;32melse\u001b[0m\u001b[1;33m:\u001b[0m\u001b[1;33m\u001b[0m\u001b[1;33m\u001b[0m\u001b[0m\n\u001b[1;32m--> 286\u001b[1;33m         \u001b[0mres_values\u001b[0m \u001b[1;33m=\u001b[0m \u001b[0m_na_arithmetic_op\u001b[0m\u001b[1;33m(\u001b[0m\u001b[0mlvalues\u001b[0m\u001b[1;33m,\u001b[0m \u001b[0mrvalues\u001b[0m\u001b[1;33m,\u001b[0m \u001b[0mop\u001b[0m\u001b[1;33m,\u001b[0m \u001b[0mis_cmp\u001b[0m\u001b[1;33m=\u001b[0m\u001b[1;32mTrue\u001b[0m\u001b[1;33m)\u001b[0m\u001b[1;33m\u001b[0m\u001b[1;33m\u001b[0m\u001b[0m\n\u001b[0m\u001b[0;32m    287\u001b[0m \u001b[1;33m\u001b[0m\u001b[0m\n\u001b[0;32m    288\u001b[0m     \u001b[1;32mreturn\u001b[0m \u001b[0mres_values\u001b[0m\u001b[1;33m\u001b[0m\u001b[1;33m\u001b[0m\u001b[0m\n",
      "\u001b[1;32m~\\anaconda3\\envs\\IPLAB\\lib\\site-packages\\pandas\\core\\ops\\array_ops.py\u001b[0m in \u001b[0;36m_na_arithmetic_op\u001b[1;34m(left, right, op, is_cmp)\u001b[0m\n\u001b[0;32m    161\u001b[0m \u001b[1;33m\u001b[0m\u001b[0m\n\u001b[0;32m    162\u001b[0m     \u001b[1;32mtry\u001b[0m\u001b[1;33m:\u001b[0m\u001b[1;33m\u001b[0m\u001b[1;33m\u001b[0m\u001b[0m\n\u001b[1;32m--> 163\u001b[1;33m         \u001b[0mresult\u001b[0m \u001b[1;33m=\u001b[0m \u001b[0mfunc\u001b[0m\u001b[1;33m(\u001b[0m\u001b[0mleft\u001b[0m\u001b[1;33m,\u001b[0m \u001b[0mright\u001b[0m\u001b[1;33m)\u001b[0m\u001b[1;33m\u001b[0m\u001b[1;33m\u001b[0m\u001b[0m\n\u001b[0m\u001b[0;32m    164\u001b[0m     \u001b[1;32mexcept\u001b[0m \u001b[0mTypeError\u001b[0m\u001b[1;33m:\u001b[0m\u001b[1;33m\u001b[0m\u001b[1;33m\u001b[0m\u001b[0m\n\u001b[0;32m    165\u001b[0m         \u001b[1;32mif\u001b[0m \u001b[1;32mnot\u001b[0m \u001b[0mis_cmp\u001b[0m \u001b[1;32mand\u001b[0m \u001b[1;33m(\u001b[0m\u001b[0mis_object_dtype\u001b[0m\u001b[1;33m(\u001b[0m\u001b[0mleft\u001b[0m\u001b[1;33m.\u001b[0m\u001b[0mdtype\u001b[0m\u001b[1;33m)\u001b[0m \u001b[1;32mor\u001b[0m \u001b[0mis_object_dtype\u001b[0m\u001b[1;33m(\u001b[0m\u001b[0mright\u001b[0m\u001b[1;33m)\u001b[0m\u001b[1;33m)\u001b[0m\u001b[1;33m:\u001b[0m\u001b[1;33m\u001b[0m\u001b[1;33m\u001b[0m\u001b[0m\n",
      "\u001b[1;32m~\\anaconda3\\envs\\IPLAB\\lib\\site-packages\\pandas\\core\\computation\\expressions.py\u001b[0m in \u001b[0;36mevaluate\u001b[1;34m(op, a, b, use_numexpr)\u001b[0m\n\u001b[0;32m    237\u001b[0m         \u001b[1;32mif\u001b[0m \u001b[0muse_numexpr\u001b[0m\u001b[1;33m:\u001b[0m\u001b[1;33m\u001b[0m\u001b[1;33m\u001b[0m\u001b[0m\n\u001b[0;32m    238\u001b[0m             \u001b[1;31m# error: \"None\" not callable\u001b[0m\u001b[1;33m\u001b[0m\u001b[1;33m\u001b[0m\u001b[1;33m\u001b[0m\u001b[0m\n\u001b[1;32m--> 239\u001b[1;33m             \u001b[1;32mreturn\u001b[0m \u001b[0m_evaluate\u001b[0m\u001b[1;33m(\u001b[0m\u001b[0mop\u001b[0m\u001b[1;33m,\u001b[0m \u001b[0mop_str\u001b[0m\u001b[1;33m,\u001b[0m \u001b[0ma\u001b[0m\u001b[1;33m,\u001b[0m \u001b[0mb\u001b[0m\u001b[1;33m)\u001b[0m  \u001b[1;31m# type: ignore[misc]\u001b[0m\u001b[1;33m\u001b[0m\u001b[1;33m\u001b[0m\u001b[0m\n\u001b[0m\u001b[0;32m    240\u001b[0m     \u001b[1;32mreturn\u001b[0m \u001b[0m_evaluate_standard\u001b[0m\u001b[1;33m(\u001b[0m\u001b[0mop\u001b[0m\u001b[1;33m,\u001b[0m \u001b[0mop_str\u001b[0m\u001b[1;33m,\u001b[0m \u001b[0ma\u001b[0m\u001b[1;33m,\u001b[0m \u001b[0mb\u001b[0m\u001b[1;33m)\u001b[0m\u001b[1;33m\u001b[0m\u001b[1;33m\u001b[0m\u001b[0m\n\u001b[0;32m    241\u001b[0m \u001b[1;33m\u001b[0m\u001b[0m\n",
      "\u001b[1;32m~\\anaconda3\\envs\\IPLAB\\lib\\site-packages\\pandas\\core\\computation\\expressions.py\u001b[0m in \u001b[0;36m_evaluate_numexpr\u001b[1;34m(op, op_str, a, b)\u001b[0m\n\u001b[0;32m    126\u001b[0m \u001b[1;33m\u001b[0m\u001b[0m\n\u001b[0;32m    127\u001b[0m     \u001b[1;32mif\u001b[0m \u001b[0mresult\u001b[0m \u001b[1;32mis\u001b[0m \u001b[1;32mNone\u001b[0m\u001b[1;33m:\u001b[0m\u001b[1;33m\u001b[0m\u001b[1;33m\u001b[0m\u001b[0m\n\u001b[1;32m--> 128\u001b[1;33m         \u001b[0mresult\u001b[0m \u001b[1;33m=\u001b[0m \u001b[0m_evaluate_standard\u001b[0m\u001b[1;33m(\u001b[0m\u001b[0mop\u001b[0m\u001b[1;33m,\u001b[0m \u001b[0mop_str\u001b[0m\u001b[1;33m,\u001b[0m \u001b[0ma\u001b[0m\u001b[1;33m,\u001b[0m \u001b[0mb\u001b[0m\u001b[1;33m)\u001b[0m\u001b[1;33m\u001b[0m\u001b[1;33m\u001b[0m\u001b[0m\n\u001b[0m\u001b[0;32m    129\u001b[0m \u001b[1;33m\u001b[0m\u001b[0m\n\u001b[0;32m    130\u001b[0m     \u001b[1;32mreturn\u001b[0m \u001b[0mresult\u001b[0m\u001b[1;33m\u001b[0m\u001b[1;33m\u001b[0m\u001b[0m\n",
      "\u001b[1;32m~\\anaconda3\\envs\\IPLAB\\lib\\site-packages\\pandas\\core\\computation\\expressions.py\u001b[0m in \u001b[0;36m_evaluate_standard\u001b[1;34m(op, op_str, a, b)\u001b[0m\n\u001b[0;32m     67\u001b[0m     \u001b[1;32mif\u001b[0m \u001b[0m_TEST_MODE\u001b[0m\u001b[1;33m:\u001b[0m\u001b[1;33m\u001b[0m\u001b[1;33m\u001b[0m\u001b[0m\n\u001b[0;32m     68\u001b[0m         \u001b[0m_store_test_result\u001b[0m\u001b[1;33m(\u001b[0m\u001b[1;32mFalse\u001b[0m\u001b[1;33m)\u001b[0m\u001b[1;33m\u001b[0m\u001b[1;33m\u001b[0m\u001b[0m\n\u001b[1;32m---> 69\u001b[1;33m     \u001b[1;32mreturn\u001b[0m \u001b[0mop\u001b[0m\u001b[1;33m(\u001b[0m\u001b[0ma\u001b[0m\u001b[1;33m,\u001b[0m \u001b[0mb\u001b[0m\u001b[1;33m)\u001b[0m\u001b[1;33m\u001b[0m\u001b[1;33m\u001b[0m\u001b[0m\n\u001b[0m\u001b[0;32m     70\u001b[0m \u001b[1;33m\u001b[0m\u001b[0m\n\u001b[0;32m     71\u001b[0m \u001b[1;33m\u001b[0m\u001b[0m\n",
      "\u001b[1;31mKeyboardInterrupt\u001b[0m: "
     ]
    }
   ],
   "source": [
    "for idx in df_new.index:\n",
    "\n",
    "    head = df_new.loc[idx].headline.unique()\n",
    "    \n",
    "    if(len(head) > 1):\n",
    "        res = list(combinations(head, 2))\n",
    "        for pair in res:\n",
    "            ctr1 = df_new['ctr'].loc[(df_new.index == idx) & (df_new.headline == pair[0])][0]\n",
    "            ctr2 = df_new['ctr'].loc[(df_new.index == idx) & (df_new.headline == pair[1])][0]\n",
    "\n",
    "            if(ctr1 > ctr2):\n",
    "                date = df_new['created_at'].loc[(df_new.index == idx) & (df_new.headline == pair[0]) & (df_new.ctr == ctr1)][0]\n",
    "                df2 = pd.DataFrame({'headline1': pair[0], 'headline2': pair[1],'ctr1': [ctr1],'ctr2': [ctr2], 'date_created': date})\n",
    "            elif(ctr2 > ctr1):\n",
    "                date = df_new['created_at'].loc[(df_new.index == idx) & (df_new.headline == pair[1]) & (df_new.ctr == ctr2)][0]\n",
    "                df2 = pd.DataFrame({'headline1': pair[1], 'headline2': pair[0],'ctr1': [ctr2],'ctr2': [ctr1], 'date_created': date})\n",
    "\n",
    "            df_pair = pd.concat([df_pair, df2])#df_pair.append(df2)"
   ]
  },
  {
   "cell_type": "code",
   "execution_count": 28,
   "id": "9c5d32fc",
   "metadata": {},
   "outputs": [
    {
     "data": {
      "text/html": [
       "<div>\n",
       "<style scoped>\n",
       "    .dataframe tbody tr th:only-of-type {\n",
       "        vertical-align: middle;\n",
       "    }\n",
       "\n",
       "    .dataframe tbody tr th {\n",
       "        vertical-align: top;\n",
       "    }\n",
       "\n",
       "    .dataframe thead th {\n",
       "        text-align: right;\n",
       "    }\n",
       "</style>\n",
       "<table border=\"1\" class=\"dataframe\">\n",
       "  <thead>\n",
       "    <tr style=\"text-align: right;\">\n",
       "      <th></th>\n",
       "      <th>headline1</th>\n",
       "      <th>headline2</th>\n",
       "      <th>ctr1</th>\n",
       "      <th>ctr2</th>\n",
       "      <th>date_created</th>\n",
       "    </tr>\n",
       "  </thead>\n",
       "  <tbody>\n",
       "    <tr>\n",
       "      <th>0</th>\n",
       "      <td>A Science Guy Helps 3 Dudes From America Under...</td>\n",
       "      <td>What They Learned From The Scientist Was Terri...</td>\n",
       "      <td>0.012689</td>\n",
       "      <td>0.011101</td>\n",
       "      <td>2014-11-20 14:54:18.78</td>\n",
       "    </tr>\n",
       "    <tr>\n",
       "      <th>0</th>\n",
       "      <td>What They Learned From The Scientist Was Terri...</td>\n",
       "      <td>He Sat Them Down And Told Them About An Immine...</td>\n",
       "      <td>0.011101</td>\n",
       "      <td>0.005868</td>\n",
       "      <td>2014-11-20 14:57:52.478</td>\n",
       "    </tr>\n",
       "    <tr>\n",
       "      <th>0</th>\n",
       "      <td>The 3 Of Them Needed To See It In Person, And ...</td>\n",
       "      <td>What They Learned From The Scientist Was Terri...</td>\n",
       "      <td>0.013795</td>\n",
       "      <td>0.011101</td>\n",
       "      <td>2014-11-20 15:13:36.266</td>\n",
       "    </tr>\n",
       "    <tr>\n",
       "      <th>0</th>\n",
       "      <td>What They Learned From The Scientist Was Terri...</td>\n",
       "      <td>They May Not Be The Most Handsome Dudes, But T...</td>\n",
       "      <td>0.011101</td>\n",
       "      <td>0.009726</td>\n",
       "      <td>2014-11-20 14:57:52.478</td>\n",
       "    </tr>\n",
       "    <tr>\n",
       "      <th>0</th>\n",
       "      <td>He Showed Them Some Slides That Freaked Them O...</td>\n",
       "      <td>What They Learned From The Scientist Was Terri...</td>\n",
       "      <td>0.011568</td>\n",
       "      <td>0.011101</td>\n",
       "      <td>2014-11-20 15:09:47.669</td>\n",
       "    </tr>\n",
       "    <tr>\n",
       "      <th>...</th>\n",
       "      <td>...</td>\n",
       "      <td>...</td>\n",
       "      <td>...</td>\n",
       "      <td>...</td>\n",
       "      <td>...</td>\n",
       "    </tr>\n",
       "    <tr>\n",
       "      <th>0</th>\n",
       "      <td>When Her Kid’s Started Giving Up On Life This ...</td>\n",
       "      <td>KAPOW!!! One Teacher Dreams Big And Changes An...</td>\n",
       "      <td>0.036104</td>\n",
       "      <td>0.01875</td>\n",
       "      <td>2013-09-05 17:25:14.474</td>\n",
       "    </tr>\n",
       "    <tr>\n",
       "      <th>0</th>\n",
       "      <td>When Her Kid’s Started Giving Up On Life This ...</td>\n",
       "      <td>See How Suicidal Students Affected This Teacher\\n</td>\n",
       "      <td>0.036104</td>\n",
       "      <td>0.021898</td>\n",
       "      <td>2013-09-05 17:25:14.474</td>\n",
       "    </tr>\n",
       "    <tr>\n",
       "      <th>0</th>\n",
       "      <td>KAPOW!!! One Teacher Dreams Big And Changes An...</td>\n",
       "      <td>Pretty Cool If Your Resume Can Include The Tit...</td>\n",
       "      <td>0.01875</td>\n",
       "      <td>0.010516</td>\n",
       "      <td>2013-09-05 17:26:45.53</td>\n",
       "    </tr>\n",
       "    <tr>\n",
       "      <th>0</th>\n",
       "      <td>See How Suicidal Students Affected This Teacher\\n</td>\n",
       "      <td>Pretty Cool If Your Resume Can Include The Tit...</td>\n",
       "      <td>0.021898</td>\n",
       "      <td>0.010516</td>\n",
       "      <td>2013-09-05 17:27:48.851</td>\n",
       "    </tr>\n",
       "    <tr>\n",
       "      <th>0</th>\n",
       "      <td>See How Suicidal Students Affected This Teacher\\n</td>\n",
       "      <td>KAPOW!!! One Teacher Dreams Big And Changes An...</td>\n",
       "      <td>0.021898</td>\n",
       "      <td>0.01875</td>\n",
       "      <td>2013-09-05 17:27:48.851</td>\n",
       "    </tr>\n",
       "  </tbody>\n",
       "</table>\n",
       "<p>2066 rows × 5 columns</p>\n",
       "</div>"
      ],
      "text/plain": [
       "                                            headline1  \\\n",
       "0   A Science Guy Helps 3 Dudes From America Under...   \n",
       "0   What They Learned From The Scientist Was Terri...   \n",
       "0   The 3 Of Them Needed To See It In Person, And ...   \n",
       "0   What They Learned From The Scientist Was Terri...   \n",
       "0   He Showed Them Some Slides That Freaked Them O...   \n",
       "..                                                ...   \n",
       "0   When Her Kid’s Started Giving Up On Life This ...   \n",
       "0   When Her Kid’s Started Giving Up On Life This ...   \n",
       "0   KAPOW!!! One Teacher Dreams Big And Changes An...   \n",
       "0   See How Suicidal Students Affected This Teacher\\n   \n",
       "0   See How Suicidal Students Affected This Teacher\\n   \n",
       "\n",
       "                                            headline2      ctr1      ctr2  \\\n",
       "0   What They Learned From The Scientist Was Terri...  0.012689  0.011101   \n",
       "0   He Sat Them Down And Told Them About An Immine...  0.011101  0.005868   \n",
       "0   What They Learned From The Scientist Was Terri...  0.013795  0.011101   \n",
       "0   They May Not Be The Most Handsome Dudes, But T...  0.011101  0.009726   \n",
       "0   What They Learned From The Scientist Was Terri...  0.011568  0.011101   \n",
       "..                                                ...       ...       ...   \n",
       "0   KAPOW!!! One Teacher Dreams Big And Changes An...  0.036104   0.01875   \n",
       "0   See How Suicidal Students Affected This Teacher\\n  0.036104  0.021898   \n",
       "0   Pretty Cool If Your Resume Can Include The Tit...   0.01875  0.010516   \n",
       "0   Pretty Cool If Your Resume Can Include The Tit...  0.021898  0.010516   \n",
       "0   KAPOW!!! One Teacher Dreams Big And Changes An...  0.021898   0.01875   \n",
       "\n",
       "               date_created  \n",
       "0    2014-11-20 14:54:18.78  \n",
       "0   2014-11-20 14:57:52.478  \n",
       "0   2014-11-20 15:13:36.266  \n",
       "0   2014-11-20 14:57:52.478  \n",
       "0   2014-11-20 15:09:47.669  \n",
       "..                      ...  \n",
       "0   2013-09-05 17:25:14.474  \n",
       "0   2013-09-05 17:25:14.474  \n",
       "0    2013-09-05 17:26:45.53  \n",
       "0   2013-09-05 17:27:48.851  \n",
       "0   2013-09-05 17:27:48.851  \n",
       "\n",
       "[2066 rows x 5 columns]"
      ]
     },
     "execution_count": 28,
     "metadata": {},
     "output_type": "execute_result"
    }
   ],
   "source": [
    "df_pair"
   ]
  },
  {
   "cell_type": "code",
   "execution_count": 429,
   "id": "07368b81",
   "metadata": {},
   "outputs": [],
   "source": [
    "df_pair.index = range(len(df_pair))"
   ]
  },
  {
   "cell_type": "code",
   "execution_count": 430,
   "id": "22204bd6",
   "metadata": {},
   "outputs": [
    {
     "data": {
      "text/html": [
       "<div>\n",
       "<style scoped>\n",
       "    .dataframe tbody tr th:only-of-type {\n",
       "        vertical-align: middle;\n",
       "    }\n",
       "\n",
       "    .dataframe tbody tr th {\n",
       "        vertical-align: top;\n",
       "    }\n",
       "\n",
       "    .dataframe thead th {\n",
       "        text-align: right;\n",
       "    }\n",
       "</style>\n",
       "<table border=\"1\" class=\"dataframe\">\n",
       "  <thead>\n",
       "    <tr style=\"text-align: right;\">\n",
       "      <th></th>\n",
       "      <th>headline1</th>\n",
       "      <th>headline2</th>\n",
       "      <th>ctr1</th>\n",
       "      <th>ctr2</th>\n",
       "      <th>date_created</th>\n",
       "    </tr>\n",
       "  </thead>\n",
       "  <tbody>\n",
       "    <tr>\n",
       "      <th>0</th>\n",
       "      <td>A Science Guy Helps 3 Dudes From America Under...</td>\n",
       "      <td>What They Learned From The Scientist Was Terri...</td>\n",
       "      <td>0.012689</td>\n",
       "      <td>0.011101</td>\n",
       "      <td>2014-11-20 14:54:18.78</td>\n",
       "    </tr>\n",
       "    <tr>\n",
       "      <th>1</th>\n",
       "      <td>What They Learned From The Scientist Was Terri...</td>\n",
       "      <td>He Sat Them Down And Told Them About An Immine...</td>\n",
       "      <td>0.011101</td>\n",
       "      <td>0.005868</td>\n",
       "      <td>2014-11-20 14:57:52.478</td>\n",
       "    </tr>\n",
       "    <tr>\n",
       "      <th>2</th>\n",
       "      <td>The 3 Of Them Needed To See It In Person, And ...</td>\n",
       "      <td>What They Learned From The Scientist Was Terri...</td>\n",
       "      <td>0.013795</td>\n",
       "      <td>0.011101</td>\n",
       "      <td>2014-11-20 15:13:36.266</td>\n",
       "    </tr>\n",
       "    <tr>\n",
       "      <th>3</th>\n",
       "      <td>What They Learned From The Scientist Was Terri...</td>\n",
       "      <td>They May Not Be The Most Handsome Dudes, But T...</td>\n",
       "      <td>0.011101</td>\n",
       "      <td>0.009726</td>\n",
       "      <td>2014-11-20 14:57:52.478</td>\n",
       "    </tr>\n",
       "    <tr>\n",
       "      <th>4</th>\n",
       "      <td>He Showed Them Some Slides That Freaked Them O...</td>\n",
       "      <td>What They Learned From The Scientist Was Terri...</td>\n",
       "      <td>0.011568</td>\n",
       "      <td>0.011101</td>\n",
       "      <td>2014-11-20 15:09:47.669</td>\n",
       "    </tr>\n",
       "    <tr>\n",
       "      <th>...</th>\n",
       "      <td>...</td>\n",
       "      <td>...</td>\n",
       "      <td>...</td>\n",
       "      <td>...</td>\n",
       "      <td>...</td>\n",
       "    </tr>\n",
       "    <tr>\n",
       "      <th>79531</th>\n",
       "      <td>The Next Time You Encounter A Small Minded Big...</td>\n",
       "      <td>Newsflash: Black People Travel Too. Here's Why.</td>\n",
       "      <td>0.006170</td>\n",
       "      <td>0.004196</td>\n",
       "      <td>2014-11-20 01:23:31.203</td>\n",
       "    </tr>\n",
       "    <tr>\n",
       "      <th>79532</th>\n",
       "      <td>I've Never Wanted To Buy A Plane Ticket More T...</td>\n",
       "      <td>Newsflash: Black People Travel Too. Here's Why.</td>\n",
       "      <td>0.005864</td>\n",
       "      <td>0.004196</td>\n",
       "      <td>2014-11-20 01:24:23.415</td>\n",
       "    </tr>\n",
       "    <tr>\n",
       "      <th>79533</th>\n",
       "      <td>The Next Time You Encounter A Small Minded Big...</td>\n",
       "      <td>5 Reasons You May Need To Plan A Vacation - Ri...</td>\n",
       "      <td>0.006170</td>\n",
       "      <td>0.004834</td>\n",
       "      <td>2014-11-20 01:23:31.203</td>\n",
       "    </tr>\n",
       "    <tr>\n",
       "      <th>79534</th>\n",
       "      <td>I've Never Wanted To Buy A Plane Ticket More T...</td>\n",
       "      <td>5 Reasons You May Need To Plan A Vacation - Ri...</td>\n",
       "      <td>0.005864</td>\n",
       "      <td>0.004834</td>\n",
       "      <td>2014-11-20 01:24:23.415</td>\n",
       "    </tr>\n",
       "    <tr>\n",
       "      <th>79535</th>\n",
       "      <td>The Next Time You Encounter A Small Minded Big...</td>\n",
       "      <td>I've Never Wanted To Buy A Plane Ticket More T...</td>\n",
       "      <td>0.006170</td>\n",
       "      <td>0.005864</td>\n",
       "      <td>2014-11-20 01:23:31.203</td>\n",
       "    </tr>\n",
       "  </tbody>\n",
       "</table>\n",
       "<p>79536 rows × 5 columns</p>\n",
       "</div>"
      ],
      "text/plain": [
       "                                               headline1  \\\n",
       "0      A Science Guy Helps 3 Dudes From America Under...   \n",
       "1      What They Learned From The Scientist Was Terri...   \n",
       "2      The 3 Of Them Needed To See It In Person, And ...   \n",
       "3      What They Learned From The Scientist Was Terri...   \n",
       "4      He Showed Them Some Slides That Freaked Them O...   \n",
       "...                                                  ...   \n",
       "79531  The Next Time You Encounter A Small Minded Big...   \n",
       "79532  I've Never Wanted To Buy A Plane Ticket More T...   \n",
       "79533  The Next Time You Encounter A Small Minded Big...   \n",
       "79534  I've Never Wanted To Buy A Plane Ticket More T...   \n",
       "79535  The Next Time You Encounter A Small Minded Big...   \n",
       "\n",
       "                                               headline2      ctr1      ctr2  \\\n",
       "0      What They Learned From The Scientist Was Terri...  0.012689  0.011101   \n",
       "1      He Sat Them Down And Told Them About An Immine...  0.011101  0.005868   \n",
       "2      What They Learned From The Scientist Was Terri...  0.013795  0.011101   \n",
       "3      They May Not Be The Most Handsome Dudes, But T...  0.011101  0.009726   \n",
       "4      What They Learned From The Scientist Was Terri...  0.011568  0.011101   \n",
       "...                                                  ...       ...       ...   \n",
       "79531    Newsflash: Black People Travel Too. Here's Why.  0.006170  0.004196   \n",
       "79532    Newsflash: Black People Travel Too. Here's Why.  0.005864  0.004196   \n",
       "79533  5 Reasons You May Need To Plan A Vacation - Ri...  0.006170  0.004834   \n",
       "79534  5 Reasons You May Need To Plan A Vacation - Ri...  0.005864  0.004834   \n",
       "79535  I've Never Wanted To Buy A Plane Ticket More T...  0.006170  0.005864   \n",
       "\n",
       "                  date_created  \n",
       "0       2014-11-20 14:54:18.78  \n",
       "1      2014-11-20 14:57:52.478  \n",
       "2      2014-11-20 15:13:36.266  \n",
       "3      2014-11-20 14:57:52.478  \n",
       "4      2014-11-20 15:09:47.669  \n",
       "...                        ...  \n",
       "79531  2014-11-20 01:23:31.203  \n",
       "79532  2014-11-20 01:24:23.415  \n",
       "79533  2014-11-20 01:23:31.203  \n",
       "79534  2014-11-20 01:24:23.415  \n",
       "79535  2014-11-20 01:23:31.203  \n",
       "\n",
       "[79536 rows x 5 columns]"
      ]
     },
     "execution_count": 430,
     "metadata": {},
     "output_type": "execute_result"
    }
   ],
   "source": [
    "df_pair"
   ]
  },
  {
   "cell_type": "code",
   "execution_count": 443,
   "id": "bb558025",
   "metadata": {},
   "outputs": [
    {
     "name": "stdout",
     "output_type": "stream",
     "text": [
      "Length of the new dataset: 79536\n"
     ]
    }
   ],
   "source": [
    "print(f'Length of the new dataset: {len(df_pair)}')"
   ]
  },
  {
   "cell_type": "markdown",
   "id": "91e59b72",
   "metadata": {},
   "source": [
    "1.8 To get a sense of the impact of headline change, measure the average difference per pair between the most clicked-through (`ctr1`) and the least clicked-through headline (`ctr2`), as well as the average clickthrough rate for the least clicked through headline (`ctr2`). "
   ]
  },
  {
   "cell_type": "code",
   "execution_count": 432,
   "id": "ceb22add",
   "metadata": {},
   "outputs": [
    {
     "data": {
      "text/plain": [
       "0.00402973170080445"
      ]
     },
     "execution_count": 432,
     "metadata": {},
     "output_type": "execute_result"
    }
   ],
   "source": [
    "(df_pair['ctr1']-df_pair['ctr2']).mean()"
   ]
  },
  {
   "cell_type": "code",
   "execution_count": 433,
   "id": "11756232",
   "metadata": {},
   "outputs": [
    {
     "data": {
      "text/plain": [
       "0.01062867070253449"
      ]
     },
     "execution_count": 433,
     "metadata": {},
     "output_type": "execute_result"
    }
   ],
   "source": [
    "df_pair['ctr2'].mean()"
   ]
  },
  {
   "cell_type": "markdown",
   "id": "eee873a1",
   "metadata": {},
   "source": [
    "1.9 **Discuss:** Considering your answer to **T1.8**, and assuming the average differences in clickthrough rates between pairs are statistically significant, do you think that headlines are impactful in the news business? Justify with the data."
   ]
  },
  {
   "cell_type": "markdown",
   "id": "26339556",
   "metadata": {},
   "source": [
    "Even if the average differences are statistically significant, it is not necessary that the headlines are impactul. In fact the significant result could be due to the extremely high number of comparisons and not to the real presence of an effect."
   ]
  },
  {
   "cell_type": "markdown",
   "id": "00795a15",
   "metadata": {},
   "source": [
    "## Task 2: Extracting signals from the data\n",
    "\n",
    "Your second task is to extract meaningful signals from the data. \n",
    "We start this task from the dataset obtained in **T1.7**. \n",
    "Recall that we have one A/B test per row with the clickthrough rate of two news pieces that differ only in their headline. \n",
    "We refer to the version with the higher clickthrough rate as the \"winner\" and the version with the lower as the \"loser.\" \n",
    "(Note that this is not the same as the column `winner` in the original data, which captures a similar concept but considering the original experiments, where multiple comparisons were made!)\n",
    " \n",
    "2.1 Using the function provided below, count the number of words in each headline, creating columns `numwords1` and `numwords2` corresponding to the number of words in the winner and loser headlines.\n",
    "\n",
    "2.2 Using the dictionary of pronouns provided below, create indicator variables corresponding to each set of pronouns (e.g., first-person singular may yield columns `first_person_singular1` and `first_person_singular2` for the headlines in each A/B test). \n",
    "Each indicator variable in the dataframe should equal 1 if the corresponding headline uses the corresponding type of pronoun and 0 otherwise. \n",
    "Your code should be agnostic to lower/upper case.\n",
    "\n",
    "2.3 One easy way to classify sentiment is simply to match negative or positive words. \n",
    "Use the linked lists of words ([positive][1], [negative][2]) to obtain \"positive sentiment\" and \"negative sentiment\" scores for each headline. Create columns `positive1`/`positive2` and `negative1`/`negative2` containing indicator variables for positive and negative sentiment, i.e., A headline has a \"positive sentiment\" (or negative) score equal 1 if it contains at least one positive (or negative) sentiment word on the list. Otherwise, its \"positive sentiment\" (or negative) score equals 0.\n",
    "    \n",
    "[1]: https://ptrckprry.com/course/ssd/data/positive-words.txt\n",
    "[2]: https://ptrckprry.com/course/ssd/data/negative-words.txt\n",
    "\n",
    "--- \n",
    "\n",
    "**Comments**\n",
    "\n",
    "- For **T2.3**, beware of encodings!"
   ]
  },
  {
   "cell_type": "code",
   "execution_count": null,
   "id": "6db63064",
   "metadata": {},
   "outputs": [],
   "source": []
  },
  {
   "cell_type": "markdown",
   "id": "572f0b46",
   "metadata": {},
   "source": [
    "## Task 3: Estimating the effect of language on headline success\n",
    "\n",
    "Your third task revolves around the question *how does language impact headlines' success?*\n",
    "\n",
    "3.1 First, we examine whether the winner headlines have more or fewer words than the loser headline. Conduct an independent sample t-test and paired t-test (see [scipy.stats](https://docs.scipy.org/doc/scipy/reference/generated/scipy.stats.ttest_ind.html#scipy.stats.ttest_ind); for the independent sample t-test, assume equal variance). Also, calculate and print the mean difference between the number of words in the winner and the loser headlines.\n",
    "\n",
    "3.2 **Discuss:** Are longer headlines more successful? Justify.\n",
    "\n",
    "3.3 The [t-statistic](https://en.wikipedia.org/wiki/T-statistic) is the ratio of the departure of the estimated value of a parameter from its hypothesized value to its standard error. In a t-test, the higher the t-statistic, the more confidently we can reject the null hypothesis. Use `numpy.random` to create four samples, each of size 30:\n",
    "- $X \\sim Uniform(0,1)$\n",
    "- $Y \\sim Uniform(0,1)$\n",
    "- $Z = X/2 + Y/2 + 0.1$\n",
    "- $K = Y + 0.1$\n",
    "    \n",
    "3.4 **Discuss:** What are the expected values and the variance of $X$, $Y$, $Z$, and $K$? (You don't need to justify them!)\n",
    "\n",
    "3.5 Run the following simulation 10000 times, storing the $p$-values for the tests at each run:\n",
    "- Sample new values  for $X$, $Y$, $Z$ and $K$ ($n=30$ each). \n",
    "- Run independent sample t-test (assuming equal variance) and paired t-test comparing $X$ and $Z$.\n",
    "-  Run independent sample t-test (assuming equal variance) and paired t-test comparing $X$ and $K$.\n",
    "\n",
    "3.6 Recall that the power of a binary hypothesis test is the probability that the test correctly rejects the null hypothesis when the alternative hypothesis is true. Using the p-values and assuming that we reject the null hypothesis if $p < 0.05$, calculate the statistical power of:\n",
    "- The independent sample t-test comparing $X$ and $Z$.\n",
    "- The paired t-test comparing $X$ and $Z$.\n",
    "- The independent sample t-test comparing $X$ and $K$.\n",
    "- The paired t-test comparing $X$ and $K$.\n",
    "    \n",
    "3.7 **Discuss:** When are paired t-tests helpful? Justify.\n",
    "\n",
    "3.8 With a bootstrapping approach (implemented by yourself, you should not use existing bootstrapping functions), estimate the average difference and 95% confidence intervals for:\n",
    "- the mean ratio between the number of words in the winner headline and the loser headline (i.e., the number of words in the winner headline divided by the number of words in the loser headlines).\n",
    "- the difference in usage of positive words between winner and loser headlines.\n",
    "- the difference in usage of negative words between winner and loser headlines.\n",
    "- The difference in usage of each type of pronoun between winner and loser headlines.\n",
    "\n",
    "3.9 **Discuss:** According to the results obtained in **T3.8**, what headlines grab people's attention the most? Justify your answer.\n",
    "    \n",
    "---\n",
    "**Comments:**\n",
    "\n",
    "- Paired t-test formula: $t = \\frac{\\overline{x}_{\\mathrm{diff}}}{s_{\\mathrm{diff}} / \\sqrt n }$ where:\n",
    "    - $\\overline{x}_{\\mathrm{diff}}$ is the sample difference between the means of the matched sample; and\n",
    "    - $s_{\\mathrm{diff}}$ is the sample variance of the matched sample; and\n",
    "    - $n$ is the number of matched samples.\n",
    "    \n",
    "- Independent samples t-test formula: $t = \\frac{\\overline{x}_{1} - \\overline{x}_{2}}{\\sqrt{\\frac{s_{1}^{2}}{n_{1}} + \\frac{s_{2}^{2}}{n_{2}}}}$ where:\n",
    "    - $\\overline{x}_{\\mathrm{1}}$ is the sample mean of the first group; and\n",
    "    - $s_{\\mathrm{1}}$ is the sample variance of the first group; and\n",
    "    - $n_1$ is the number of samples in the first group;\n",
    "    \n",
    "     \n",
    "- t-tests are valid for samples of non-normal distribution for large enough samples (a rule of thumb used is: n$\\geq$30)!"
   ]
  },
  {
   "cell_type": "code",
   "execution_count": null,
   "id": "966c66d6",
   "metadata": {},
   "outputs": [],
   "source": []
  },
  {
   "cell_type": "markdown",
   "id": "70888d20",
   "metadata": {},
   "source": [
    "## Task 4: Temporal validity and heterogeneity of the effect.\n",
    "\n",
    "Last, we investigate how the effects studied in **T3** change with time and how they might be heterogeneous across different types of news.\n",
    "\n",
    "4.1 Create a plot where you depict the monthly average number of words in winner and loser headlines. Consider only headlines created after April 2013 (the month of April inclusive). Include also bootstrapped 95% confidence intervals; here, you can use a third-party implementation if you want. Finally, recall that we created a column `date_created` which captures the creation of the winner headline; you can consider this date to correspond to the date of the creation of the A/B test.\n",
    "\n",
    "4.2 Produce similar plots to each pronoun category, as well as for positive and negative sentiment. Here, unlike in **T4.1**, depict the month averages pooled across winner and loser headlines (i.e., for each month, you calculate the average across both winners and loser headlines).\n",
    "Create all these plots in a single figure with no more than 11 inches of width and 11 inches of height. Again, consider only headlines created after April 2013 (the month of April inclusive).\n",
    "\n",
    "4.3 **Discuss:** Has the type of headline Upworthy used in their A/B tests changed with time? Are these changes likely to be producing more or less engaging headlines? Justify.\n",
    "\n",
    "4.4 Divide your data into two periods, $t_1$, which goes from  April 2013 (inclusive) to March 2014 (inclusive), and $t_2$, which goes from April 2014 (inclusive) to the latest A/B test in the data. Create a dataframe for A/B tests in each period.\n",
    "\n",
    "4.5 Let's examine if the effects observed remained the same throughout the study period. Use an appropriate methodology  of your choice to determine if the effects observed in **T3.8** (length, each category of pronouns, positive words, and negative words) were different in $t_1$ and $t_2$. Here, note that we are considering \"at least one positive outcome\" to be the manifestation of an underlying effect, thus significance level must be adjusted down when performing multiple hypothesis tests!\n",
    "\n",
    "4.6 **Discuss:** Hypothesize two reasons that could have led to a change in the observed effects. According to the analysis done in **T4.5**, have the effects observed remained the same across the study period? \n",
    "\n",
    "4.7 The features we are studying may interact with each other. For instance, people may like first person singular pronouns in headlines containing positive words (you are amazing!), but dislike headlines with negative words and first person pronouns (you are awful!). To help answer this question, create:\n",
    "- a dataframe containing all A/B tests where both winner and loser headlines include a positive word; and\n",
    "- a dataframe containing all A/B tests where both winner and loser headlines include a negative word;\n",
    "\n",
    "4.8 Using an appropriate methodology of your choice, determine if the effect of the use of first person singular pronouns in the headline is heterogeneous across headlines with positive words and negative words, i.e., is the effect significantly stronger for one of the dataframes created in **T4.7**? \n",
    "\n",
    "4.9 **Discuss:** Considering the analyses you did throughout Tasks 3 and 4, write a short text (no more than 250 words) giving advice to Upworthy employees on how they should try to write engaging headlines. \n",
    "You can reference images present in the notebook by indicating a task (e.g., image plotted in **T3.3**) or a cell number. Note that you do not need to conduct any additional analysis to write this text. \n"
   ]
  },
  {
   "cell_type": "code",
   "execution_count": null,
   "id": "fd3dc9f2",
   "metadata": {},
   "outputs": [],
   "source": []
  }
 ],
 "metadata": {
  "kernelspec": {
   "display_name": "Python 3 (ipykernel)",
   "language": "python",
   "name": "python3"
  },
  "language_info": {
   "codemirror_mode": {
    "name": "ipython",
    "version": 3
   },
   "file_extension": ".py",
   "mimetype": "text/x-python",
   "name": "python",
   "nbconvert_exporter": "python",
   "pygments_lexer": "ipython3",
   "version": "3.8.12"
  }
 },
 "nbformat": 4,
 "nbformat_minor": 5
}
